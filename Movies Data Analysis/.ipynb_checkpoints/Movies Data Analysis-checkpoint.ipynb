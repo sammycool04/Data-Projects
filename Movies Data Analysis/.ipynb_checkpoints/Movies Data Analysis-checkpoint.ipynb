{
 "cells": [
  {
   "cell_type": "markdown",
   "metadata": {},
   "source": [
    "# Dataset Preparation\n",
    "   **In this projects, I use beautiful soup to web scrape movie dataset and do my own analysis**"
   ]
  },
  {
   "cell_type": "code",
   "execution_count": 1,
   "metadata": {},
   "outputs": [
    {
     "name": "stdout",
     "output_type": "stream",
     "text": [
      "\n",
      "\n",
      "\n",
      "<!DOCTYPE html>\n",
      "<html\n",
      "    xmlns:og=\"http://ogp.me/ns#\"\n",
      "    xmlns:fb=\"http://www.facebook.com/2008/fbml\">\n",
      "    <head>\n",
      "         \n",
      "        <meta charset=\"utf-8\">\n",
      "        <meta http-equiv=\"X-UA-Compatible\" content=\"IE=edge\">\n",
      "\n",
      "    <meta name=\"apple-itunes-app\" content=\"app-id=342792525, app-argument=imdb:///?src=mdot\">\n",
      "\n",
      "\n",
      "\n",
      "        <script type=\"text/javascript\">var IMDbTimer={starttime: new Date().getTime(),pt:'java'};</script>\n",
      "\n",
      "<script>\n",
      "    if (typeof uet == 'function') {\n",
      "      uet(\"bb\", \"LoadTitle\"\n"
     ]
    }
   ],
   "source": [
    "from requests import get\n",
    "url = 'http://www.imdb.com/search/title?release_date=2017&sort=num_votes,desc&page=1'\n",
    "response = get(url)\n",
    "print(response.text[:500])"
   ]
  },
  {
   "cell_type": "code",
   "execution_count": 2,
   "metadata": {},
   "outputs": [
    {
     "data": {
      "text/plain": [
       "bs4.BeautifulSoup"
      ]
     },
     "execution_count": 2,
     "metadata": {},
     "output_type": "execute_result"
    }
   ],
   "source": [
    "from bs4 import BeautifulSoup\n",
    "html_soup = BeautifulSoup(response.text, 'html.parser')\n",
    "type(html_soup)"
   ]
  },
  {
   "cell_type": "code",
   "execution_count": 3,
   "metadata": {},
   "outputs": [
    {
     "name": "stdout",
     "output_type": "stream",
     "text": [
      "<class 'bs4.element.ResultSet'>\n",
      "50\n"
     ]
    }
   ],
   "source": [
    "movie_containers = html_soup.find_all('div', class_ = 'lister-item mode-advanced')\n",
    "print(type(movie_containers))\n",
    "print(len(movie_containers))"
   ]
  },
  {
   "cell_type": "code",
   "execution_count": 4,
   "metadata": {},
   "outputs": [
    {
     "data": {
      "text/plain": [
       "<div class=\"lister-item mode-advanced\">\n",
       "<div class=\"lister-top-right\">\n",
       "<div class=\"ribbonize\" data-caller=\"filmosearch\" data-tconst=\"tt3315342\"></div>\n",
       "</div>\n",
       "<div class=\"lister-item-image float-left\">\n",
       "<a href=\"/title/tt3315342/\"> <img alt=\"Logan\" class=\"loadlate\" data-tconst=\"tt3315342\" height=\"98\" loadlate=\"https://m.media-amazon.com/images/M/MV5BYzc5MTU4N2EtYTkyMi00NjdhLTg3NWEtMTY4OTEyMzJhZTAzXkEyXkFqcGdeQXVyNjc1NTYyMjg@._V1_UX67_CR0,0,67,98_AL_.jpg\" src=\"https://m.media-amazon.com/images/G/01/imdb/images/nopicture/large/film-184890147._CB470041630_.png\" width=\"67\"/>\n",
       "</a> </div>\n",
       "<div class=\"lister-item-content\">\n",
       "<h3 class=\"lister-item-header\">\n",
       "<span class=\"lister-item-index unbold text-primary\">1.</span>\n",
       "<a href=\"/title/tt3315342/\">Logan</a>\n",
       "<span class=\"lister-item-year text-muted unbold\">(2017)</span>\n",
       "</h3>\n",
       "<p class=\"text-muted \">\n",
       "<span class=\"certificate\">R</span>\n",
       "<span class=\"ghost\">|</span>\n",
       "<span class=\"runtime\">137 min</span>\n",
       "<span class=\"ghost\">|</span>\n",
       "<span class=\"genre\">\n",
       "Action, Drama, Sci-Fi            </span>\n",
       "</p>\n",
       "<div class=\"ratings-bar\">\n",
       "<div class=\"inline-block ratings-imdb-rating\" data-value=\"8.1\" name=\"ir\">\n",
       "<span class=\"global-sprite rating-star imdb-rating\"></span>\n",
       "<strong>8.1</strong>\n",
       "</div>\n",
       "<div class=\"inline-block ratings-user-rating\">\n",
       "<span class=\"userRatingValue\" data-tconst=\"tt3315342\" id=\"urv_tt3315342\">\n",
       "<span class=\"global-sprite rating-star no-rating\"></span>\n",
       "<span class=\"rate\" data-no-rating=\"Rate this\" data-value=\"0\" name=\"ur\">Rate this</span>\n",
       "</span>\n",
       "<div class=\"starBarWidget\" id=\"sb_tt3315342\">\n",
       "<div class=\"rating rating-list\" data-auth=\"\" data-ga-identifier=\"\" data-starbar-class=\"rating-list\" data-user=\"\" id=\"tt3315342|imdb|8.1|8.1|||advsearch|title\" itemprop=\"aggregateRating\" itemscope=\"\" itemtype=\"http://schema.org/AggregateRating\" title=\"Users rated this 8.1/10 (575,221 votes) - click stars to rate\">\n",
       "<meta content=\"8.1\" itemprop=\"ratingValue\"/>\n",
       "<meta content=\"10\" itemprop=\"bestRating\"/>\n",
       "<meta content=\"575221\" itemprop=\"ratingCount\"/>\n",
       "<span class=\"rating-bg\"> </span>\n",
       "<span class=\"rating-imdb \" style=\"width: 113.4px\"> </span>\n",
       "<span class=\"rating-stars\">\n",
       "<a href=\"/register/login?why=vote\" rel=\"nofollow\" title=\"Register or login to rate this title\"><span>1</span></a>\n",
       "<a href=\"/register/login?why=vote\" rel=\"nofollow\" title=\"Register or login to rate this title\"><span>2</span></a>\n",
       "<a href=\"/register/login?why=vote\" rel=\"nofollow\" title=\"Register or login to rate this title\"><span>3</span></a>\n",
       "<a href=\"/register/login?why=vote\" rel=\"nofollow\" title=\"Register or login to rate this title\"><span>4</span></a>\n",
       "<a href=\"/register/login?why=vote\" rel=\"nofollow\" title=\"Register or login to rate this title\"><span>5</span></a>\n",
       "<a href=\"/register/login?why=vote\" rel=\"nofollow\" title=\"Register or login to rate this title\"><span>6</span></a>\n",
       "<a href=\"/register/login?why=vote\" rel=\"nofollow\" title=\"Register or login to rate this title\"><span>7</span></a>\n",
       "<a href=\"/register/login?why=vote\" rel=\"nofollow\" title=\"Register or login to rate this title\"><span>8</span></a>\n",
       "<a href=\"/register/login?why=vote\" rel=\"nofollow\" title=\"Register or login to rate this title\"><span>9</span></a>\n",
       "<a href=\"/register/login?why=vote\" rel=\"nofollow\" title=\"Register or login to rate this title\"><span>10</span></a>\n",
       "</span>\n",
       "<span class=\"rating-rating \"><span class=\"value\">8.1</span><span class=\"grey\">/</span><span class=\"grey\">10</span></span>\n",
       "<span class=\"rating-cancel \"><a href=\"/title/tt3315342/vote?v=X;k=\" rel=\"nofollow\" title=\"Delete\"><span>X</span></a></span>\n",
       " </div>\n",
       "</div>\n",
       "</div>\n",
       "<div class=\"inline-block ratings-metascore\">\n",
       "<span class=\"metascore favorable\">77        </span>\n",
       "        Metascore\n",
       "            </div>\n",
       "</div>\n",
       "<p class=\"text-muted\">\n",
       "    In a future where mutants are nearly extinct, an elderly and weary Logan leads a quiet life. But when Laura, a mutant child pursued by scientists, comes to him for help, he must get her to safety.</p>\n",
       "<p class=\"\">\n",
       "    Director:\n",
       "<a href=\"/name/nm0003506/\">James Mangold</a>\n",
       "<span class=\"ghost\">|</span> \n",
       "    Stars:\n",
       "<a href=\"/name/nm0413168/\">Hugh Jackman</a>, \n",
       "<a href=\"/name/nm0001772/\">Patrick Stewart</a>, \n",
       "<a href=\"/name/nm6748436/\">Dafne Keen</a>, \n",
       "<a href=\"/name/nm2933542/\">Boyd Holbrook</a>\n",
       "</p>\n",
       "<p class=\"sort-num_votes-visible\">\n",
       "<span class=\"text-muted\">Votes:</span>\n",
       "<span data-value=\"575221\" name=\"nv\">575,221</span>\n",
       "<span class=\"ghost\">|</span> <span class=\"text-muted\">Gross:</span>\n",
       "<span data-value=\"226,277,068\" name=\"nv\">$226.28M</span>\n",
       "</p>\n",
       "</div>\n",
       "</div>"
      ]
     },
     "execution_count": 4,
     "metadata": {},
     "output_type": "execute_result"
    }
   ],
   "source": [
    "first_movie = movie_containers[0]\n",
    "first_movie"
   ]
  },
  {
   "cell_type": "code",
   "execution_count": 5,
   "metadata": {},
   "outputs": [
    {
     "data": {
      "text/plain": [
       "<div class=\"lister-top-right\">\n",
       "<div class=\"ribbonize\" data-caller=\"filmosearch\" data-tconst=\"tt3315342\"></div>\n",
       "</div>"
      ]
     },
     "execution_count": 5,
     "metadata": {},
     "output_type": "execute_result"
    }
   ],
   "source": [
    "first_movie.div"
   ]
  },
  {
   "cell_type": "markdown",
   "metadata": {},
   "source": [
    "Find the description of the first movie"
   ]
  },
  {
   "cell_type": "code",
   "execution_count": 6,
   "metadata": {},
   "outputs": [
    {
     "data": {
      "text/plain": [
       "'\\n    In a future where mutants are nearly extinct, an elderly and weary Logan leads a quiet life. But when Laura, a mutant child pursued by scientists, comes to him for help, he must get her to safety.'"
      ]
     },
     "execution_count": 6,
     "metadata": {},
     "output_type": "execute_result"
    }
   ],
   "source": [
    "first_movie.find_all('p')[1].text"
   ]
  },
  {
   "cell_type": "code",
   "execution_count": 7,
   "metadata": {},
   "outputs": [
    {
     "data": {
      "text/plain": [
       "'\\n    Thor (Chris Hemsworth) is imprisoned on the planet Sakaar, and must race against time to return to Asgard and stop Ragnarök, the destruction of his world, at the hands of the powerful and ruthless villain Hela (Cate Blanchett).'"
      ]
     },
     "execution_count": 7,
     "metadata": {},
     "output_type": "execute_result"
    }
   ],
   "source": [
    "second_movie = movie_containers[1]\n",
    "second_movie.find_all('p')[1].text"
   ]
  },
  {
   "cell_type": "code",
   "execution_count": 8,
   "metadata": {},
   "outputs": [
    {
     "data": {
      "text/plain": [
       "'Logan'"
      ]
     },
     "execution_count": 8,
     "metadata": {},
     "output_type": "execute_result"
    }
   ],
   "source": [
    "first_name = first_movie.h3.a.text\n",
    "first_name"
   ]
  },
  {
   "cell_type": "code",
   "execution_count": 9,
   "metadata": {},
   "outputs": [
    {
     "data": {
      "text/plain": [
       "<span class=\"lister-item-year text-muted unbold\">(2017)</span>"
      ]
     },
     "execution_count": 9,
     "metadata": {},
     "output_type": "execute_result"
    }
   ],
   "source": [
    "first_year = first_movie.h3.find('span', class_ = 'lister-item-year text-muted unbold')\n",
    "first_year"
   ]
  },
  {
   "cell_type": "code",
   "execution_count": 10,
   "metadata": {},
   "outputs": [
    {
     "data": {
      "text/plain": [
       "'(2017)'"
      ]
     },
     "execution_count": 10,
     "metadata": {},
     "output_type": "execute_result"
    }
   ],
   "source": [
    "first_year = first_year.text\n",
    "first_year"
   ]
  },
  {
   "cell_type": "code",
   "execution_count": 11,
   "metadata": {},
   "outputs": [
    {
     "data": {
      "text/plain": [
       "<strong>8.1</strong>"
      ]
     },
     "execution_count": 11,
     "metadata": {},
     "output_type": "execute_result"
    }
   ],
   "source": [
    "first_movie.strong\n"
   ]
  },
  {
   "cell_type": "code",
   "execution_count": 12,
   "metadata": {},
   "outputs": [
    {
     "data": {
      "text/plain": [
       "8.1"
      ]
     },
     "execution_count": 12,
     "metadata": {},
     "output_type": "execute_result"
    }
   ],
   "source": [
    "first_imdb = float(first_movie.strong.text)\n",
    "first_imdb"
   ]
  },
  {
   "cell_type": "code",
   "execution_count": 13,
   "metadata": {},
   "outputs": [
    {
     "name": "stdout",
     "output_type": "stream",
     "text": [
      "77\n"
     ]
    }
   ],
   "source": [
    "first_mscore = first_movie.find('span', class_ = 'metascore favorable')\n",
    "first_mscore = int(first_mscore.text)\n",
    "print(first_mscore)"
   ]
  },
  {
   "cell_type": "code",
   "execution_count": 14,
   "metadata": {},
   "outputs": [
    {
     "data": {
      "text/plain": [
       "<span data-value=\"575221\" name=\"nv\">575,221</span>"
      ]
     },
     "execution_count": 14,
     "metadata": {},
     "output_type": "execute_result"
    }
   ],
   "source": [
    "first_votes = first_movie.find('span', attrs = {'name':'nv'})\n",
    "first_votes"
   ]
  },
  {
   "cell_type": "code",
   "execution_count": 15,
   "metadata": {
    "collapsed": true
   },
   "outputs": [],
   "source": [
    "first_votes = int(first_votes['data-value'])"
   ]
  },
  {
   "cell_type": "markdown",
   "metadata": {},
   "source": [
    "some movies have no rating score"
   ]
  },
  {
   "cell_type": "code",
   "execution_count": 16,
   "metadata": {},
   "outputs": [
    {
     "name": "stdout",
     "output_type": "stream",
     "text": [
      "<class 'NoneType'>\n"
     ]
    }
   ],
   "source": [
    "eighth_movie_mscore = movie_containers[22].find('div', class_ = 'ratings-metascore')\n",
    "print(type(eighth_movie_mscore))\n"
   ]
  },
  {
   "cell_type": "code",
   "execution_count": 17,
   "metadata": {
    "collapsed": true
   },
   "outputs": [],
   "source": [
    "# Lists to store the scraped data in\n",
    "names = []\n",
    "years = []\n",
    "imdb_ratings = []\n",
    "metascores = []\n",
    "votes = []\n",
    "descriptions = []\n",
    "headers = {\"Accept-Language\": \"en-US, en;q=0.5\"}\n",
    "\n",
    "# Extract data from individual movie container\n",
    "for container in movie_containers:\n",
    "# If the movie has Metascore, then extract:\n",
    "    if container.find('div', class_ = 'ratings-metascore') is not None:\n",
    "# The name\n",
    "        name = container.h3.a.text\n",
    "        names.append(name)\n",
    "# The year\n",
    "        year = container.h3.find('span', class_ = 'lister-item-year').text\n",
    "        years.append(year)\n",
    "# The IMDB rating\n",
    "        imdb = float(container.strong.text)\n",
    "        imdb_ratings.append(imdb)\n",
    "# The Metascore\n",
    "        m_score = container.find('span', class_ = 'metascore').text\n",
    "        metascores.append(int(m_score))\n",
    "# The number of votes\n",
    "        vote = container.find('span', attrs = {'name':'nv'})['data-value']\n",
    "        votes.append(int(vote))\n",
    "# The description\n",
    "        description = container.find_all('p')[1].text\n",
    "        descriptions.append(description)"
   ]
  },
  {
   "cell_type": "code",
   "execution_count": 18,
   "metadata": {},
   "outputs": [
    {
     "name": "stdout",
     "output_type": "stream",
     "text": [
      "<class 'pandas.core.frame.DataFrame'>\n",
      "RangeIndex: 43 entries, 0 to 42\n",
      "Data columns (total 6 columns):\n",
      "descriptions    43 non-null object\n",
      "imdb            43 non-null float64\n",
      "metascore       43 non-null int64\n",
      "movie           43 non-null object\n",
      "votes           43 non-null int64\n",
      "year            43 non-null object\n",
      "dtypes: float64(1), int64(2), object(3)\n",
      "memory usage: 2.1+ KB\n",
      "None\n"
     ]
    },
    {
     "data": {
      "text/html": [
       "<div>\n",
       "<style>\n",
       "    .dataframe thead tr:only-child th {\n",
       "        text-align: right;\n",
       "    }\n",
       "\n",
       "    .dataframe thead th {\n",
       "        text-align: left;\n",
       "    }\n",
       "\n",
       "    .dataframe tbody tr th {\n",
       "        vertical-align: top;\n",
       "    }\n",
       "</style>\n",
       "<table border=\"1\" class=\"dataframe\">\n",
       "  <thead>\n",
       "    <tr style=\"text-align: right;\">\n",
       "      <th></th>\n",
       "      <th>descriptions</th>\n",
       "      <th>imdb</th>\n",
       "      <th>metascore</th>\n",
       "      <th>movie</th>\n",
       "      <th>votes</th>\n",
       "      <th>year</th>\n",
       "    </tr>\n",
       "  </thead>\n",
       "  <tbody>\n",
       "    <tr>\n",
       "      <th>0</th>\n",
       "      <td>\\n    In a future where mutants are nearly ext...</td>\n",
       "      <td>8.1</td>\n",
       "      <td>77</td>\n",
       "      <td>Logan</td>\n",
       "      <td>575221</td>\n",
       "      <td>(2017)</td>\n",
       "    </tr>\n",
       "    <tr>\n",
       "      <th>1</th>\n",
       "      <td>\\n    Thor (Chris Hemsworth) is imprisoned on ...</td>\n",
       "      <td>7.9</td>\n",
       "      <td>74</td>\n",
       "      <td>Thor: Ragnarok</td>\n",
       "      <td>506363</td>\n",
       "      <td>(2017)</td>\n",
       "    </tr>\n",
       "    <tr>\n",
       "      <th>2</th>\n",
       "      <td>\\n    The Guardians struggle to keep together ...</td>\n",
       "      <td>7.6</td>\n",
       "      <td>67</td>\n",
       "      <td>Guardians of the Galaxy Vol. 2</td>\n",
       "      <td>501462</td>\n",
       "      <td>(2017)</td>\n",
       "    </tr>\n",
       "    <tr>\n",
       "      <th>3</th>\n",
       "      <td>\\n    When a pilot crashes and tells of confli...</td>\n",
       "      <td>7.4</td>\n",
       "      <td>76</td>\n",
       "      <td>Wonder Woman</td>\n",
       "      <td>499346</td>\n",
       "      <td>(2017)</td>\n",
       "    </tr>\n",
       "    <tr>\n",
       "      <th>4</th>\n",
       "      <td>\\n    Allied soldiers from Belgium, the Britis...</td>\n",
       "      <td>7.9</td>\n",
       "      <td>94</td>\n",
       "      <td>Dunkirk</td>\n",
       "      <td>479113</td>\n",
       "      <td>(2017)</td>\n",
       "    </tr>\n",
       "    <tr>\n",
       "      <th>5</th>\n",
       "      <td>\\n    Rey develops her newly discovered abilit...</td>\n",
       "      <td>7.1</td>\n",
       "      <td>85</td>\n",
       "      <td>Star Wars: Episode VIII - The Last Jedi</td>\n",
       "      <td>473952</td>\n",
       "      <td>(2017)</td>\n",
       "    </tr>\n",
       "    <tr>\n",
       "      <th>6</th>\n",
       "      <td>\\n    Peter Parker balances his life as an ord...</td>\n",
       "      <td>7.5</td>\n",
       "      <td>73</td>\n",
       "      <td>Spider-Man: Homecoming</td>\n",
       "      <td>450013</td>\n",
       "      <td>(2017)</td>\n",
       "    </tr>\n",
       "    <tr>\n",
       "      <th>7</th>\n",
       "      <td>\\n    A young African-American visits his whit...</td>\n",
       "      <td>7.7</td>\n",
       "      <td>84</td>\n",
       "      <td>Get Out</td>\n",
       "      <td>418144</td>\n",
       "      <td>(I) (2017)</td>\n",
       "    </tr>\n",
       "    <tr>\n",
       "      <th>8</th>\n",
       "      <td>\\n    A young blade runner's discovery of a lo...</td>\n",
       "      <td>8.0</td>\n",
       "      <td>81</td>\n",
       "      <td>Blade Runner 2049</td>\n",
       "      <td>389619</td>\n",
       "      <td>(2017)</td>\n",
       "    </tr>\n",
       "    <tr>\n",
       "      <th>9</th>\n",
       "      <td>\\n    In the summer of 1989, a group of bullie...</td>\n",
       "      <td>7.4</td>\n",
       "      <td>69</td>\n",
       "      <td>It</td>\n",
       "      <td>382605</td>\n",
       "      <td>(I) (2017)</td>\n",
       "    </tr>\n",
       "    <tr>\n",
       "      <th>10</th>\n",
       "      <td>\\n    After being coerced into working for a c...</td>\n",
       "      <td>7.6</td>\n",
       "      <td>86</td>\n",
       "      <td>Baby Driver</td>\n",
       "      <td>378946</td>\n",
       "      <td>(2017)</td>\n",
       "    </tr>\n",
       "    <tr>\n",
       "      <th>11</th>\n",
       "      <td>\\n    A mother personally challenges the local...</td>\n",
       "      <td>8.2</td>\n",
       "      <td>88</td>\n",
       "      <td>Three Billboards Outside Ebbing, Missouri</td>\n",
       "      <td>357605</td>\n",
       "      <td>(2017)</td>\n",
       "    </tr>\n",
       "    <tr>\n",
       "      <th>12</th>\n",
       "      <td>\\n    Fueled by his restored faith in humanity...</td>\n",
       "      <td>6.4</td>\n",
       "      <td>45</td>\n",
       "      <td>Justice League</td>\n",
       "      <td>338265</td>\n",
       "      <td>(2017)</td>\n",
       "    </tr>\n",
       "    <tr>\n",
       "      <th>13</th>\n",
       "      <td>\\n    At a top secret research facility in the...</td>\n",
       "      <td>7.3</td>\n",
       "      <td>87</td>\n",
       "      <td>The Shape of Water</td>\n",
       "      <td>318782</td>\n",
       "      <td>(2017)</td>\n",
       "    </tr>\n",
       "    <tr>\n",
       "      <th>14</th>\n",
       "      <td>\\n    After returning to the criminal underwor...</td>\n",
       "      <td>7.5</td>\n",
       "      <td>75</td>\n",
       "      <td>John Wick: Chapter 2</td>\n",
       "      <td>310169</td>\n",
       "      <td>(2017)</td>\n",
       "    </tr>\n",
       "    <tr>\n",
       "      <th>15</th>\n",
       "      <td>\\n    Aspiring musician Miguel, confronted wit...</td>\n",
       "      <td>8.4</td>\n",
       "      <td>81</td>\n",
       "      <td>Coco</td>\n",
       "      <td>293107</td>\n",
       "      <td>(I) (2017)</td>\n",
       "    </tr>\n",
       "    <tr>\n",
       "      <th>16</th>\n",
       "      <td>\\n    Four teenagers are sucked into a magical...</td>\n",
       "      <td>6.9</td>\n",
       "      <td>58</td>\n",
       "      <td>Jumanji: Welcome to the Jungle</td>\n",
       "      <td>251703</td>\n",
       "      <td>(2017)</td>\n",
       "    </tr>\n",
       "    <tr>\n",
       "      <th>17</th>\n",
       "      <td>\\n    A selfish prince is cursed to become a m...</td>\n",
       "      <td>7.2</td>\n",
       "      <td>65</td>\n",
       "      <td>Beauty and the Beast</td>\n",
       "      <td>244475</td>\n",
       "      <td>(2017)</td>\n",
       "    </tr>\n",
       "    <tr>\n",
       "      <th>18</th>\n",
       "      <td>\\n    After the Vietnam war, a team of scienti...</td>\n",
       "      <td>6.6</td>\n",
       "      <td>62</td>\n",
       "      <td>Kong: Skull Island</td>\n",
       "      <td>244312</td>\n",
       "      <td>(2017)</td>\n",
       "    </tr>\n",
       "    <tr>\n",
       "      <th>19</th>\n",
       "      <td>\\n    When their headquarters are destroyed an...</td>\n",
       "      <td>6.8</td>\n",
       "      <td>44</td>\n",
       "      <td>Kingsman: The Golden Circle</td>\n",
       "      <td>237848</td>\n",
       "      <td>(2017)</td>\n",
       "    </tr>\n",
       "    <tr>\n",
       "      <th>20</th>\n",
       "      <td>\\n    Captain Jack Sparrow (Johnny Depp) searc...</td>\n",
       "      <td>6.6</td>\n",
       "      <td>39</td>\n",
       "      <td>Pirates of the Caribbean: Dead Men Tell No Tales</td>\n",
       "      <td>234123</td>\n",
       "      <td>(2017)</td>\n",
       "    </tr>\n",
       "    <tr>\n",
       "      <th>21</th>\n",
       "      <td>\\n    The crew of a colony ship, bound for a r...</td>\n",
       "      <td>6.4</td>\n",
       "      <td>65</td>\n",
       "      <td>Alien: Covenant</td>\n",
       "      <td>231643</td>\n",
       "      <td>(2017)</td>\n",
       "    </tr>\n",
       "    <tr>\n",
       "      <th>22</th>\n",
       "      <td>\\n    After the apes suffer unimaginable losse...</td>\n",
       "      <td>7.4</td>\n",
       "      <td>82</td>\n",
       "      <td>War for the Planet of the Apes</td>\n",
       "      <td>206426</td>\n",
       "      <td>(2017)</td>\n",
       "    </tr>\n",
       "    <tr>\n",
       "      <th>23</th>\n",
       "      <td>\\n    Celebrates the birth of show business an...</td>\n",
       "      <td>7.6</td>\n",
       "      <td>48</td>\n",
       "      <td>The Greatest Showman</td>\n",
       "      <td>205212</td>\n",
       "      <td>(2017)</td>\n",
       "    </tr>\n",
       "    <tr>\n",
       "      <th>24</th>\n",
       "      <td>\\n    A team of scientists aboard the Internat...</td>\n",
       "      <td>6.6</td>\n",
       "      <td>54</td>\n",
       "      <td>Life</td>\n",
       "      <td>186495</td>\n",
       "      <td>(I) (2017)</td>\n",
       "    </tr>\n",
       "    <tr>\n",
       "      <th>25</th>\n",
       "      <td>\\n    When a mysterious woman seduces Dom into...</td>\n",
       "      <td>6.7</td>\n",
       "      <td>56</td>\n",
       "      <td>The Fate of the Furious</td>\n",
       "      <td>185444</td>\n",
       "      <td>(2017)</td>\n",
       "    </tr>\n",
       "    <tr>\n",
       "      <th>26</th>\n",
       "      <td>\\n    In 2002, an artistically inclined sevent...</td>\n",
       "      <td>7.4</td>\n",
       "      <td>94</td>\n",
       "      <td>Lady Bird</td>\n",
       "      <td>184558</td>\n",
       "      <td>(2017)</td>\n",
       "    </tr>\n",
       "    <tr>\n",
       "      <th>27</th>\n",
       "      <td>\\n    When a murder occurs on the train on whi...</td>\n",
       "      <td>6.5</td>\n",
       "      <td>52</td>\n",
       "      <td>Murder on the Orient Express</td>\n",
       "      <td>182771</td>\n",
       "      <td>(2017)</td>\n",
       "    </tr>\n",
       "    <tr>\n",
       "      <th>28</th>\n",
       "      <td>\\n    In the near future, Major Mira Killian i...</td>\n",
       "      <td>6.4</td>\n",
       "      <td>52</td>\n",
       "      <td>Ghost in the Shell</td>\n",
       "      <td>180404</td>\n",
       "      <td>(2017)</td>\n",
       "    </tr>\n",
       "    <tr>\n",
       "      <th>29</th>\n",
       "      <td>\\n    A veteran hunter helps an FBI agent inve...</td>\n",
       "      <td>7.7</td>\n",
       "      <td>73</td>\n",
       "      <td>Wind River</td>\n",
       "      <td>174607</td>\n",
       "      <td>(2017)</td>\n",
       "    </tr>\n",
       "    <tr>\n",
       "      <th>30</th>\n",
       "      <td>\\n    Robbed of his birthright, Arthur comes u...</td>\n",
       "      <td>6.8</td>\n",
       "      <td>41</td>\n",
       "      <td>King Arthur: Legend of the Sword</td>\n",
       "      <td>172534</td>\n",
       "      <td>(2017)</td>\n",
       "    </tr>\n",
       "    <tr>\n",
       "      <th>31</th>\n",
       "      <td>\\n    The world's top bodyguard gets a new cli...</td>\n",
       "      <td>6.9</td>\n",
       "      <td>47</td>\n",
       "      <td>The Hitman's Bodyguard</td>\n",
       "      <td>165744</td>\n",
       "      <td>(2017)</td>\n",
       "    </tr>\n",
       "    <tr>\n",
       "      <th>32</th>\n",
       "      <td>\\n    A couple's relationship is tested when u...</td>\n",
       "      <td>6.6</td>\n",
       "      <td>75</td>\n",
       "      <td>Mother!</td>\n",
       "      <td>162969</td>\n",
       "      <td>(2017)</td>\n",
       "    </tr>\n",
       "    <tr>\n",
       "      <th>33</th>\n",
       "      <td>\\n    In 1980s Italy, a romance blossoms betwe...</td>\n",
       "      <td>7.9</td>\n",
       "      <td>93</td>\n",
       "      <td>Call Me by Your Name</td>\n",
       "      <td>160716</td>\n",
       "      <td>(2017)</td>\n",
       "    </tr>\n",
       "    <tr>\n",
       "      <th>34</th>\n",
       "      <td>\\n    An ancient Egyptian princess is awakened...</td>\n",
       "      <td>5.5</td>\n",
       "      <td>34</td>\n",
       "      <td>The Mummy</td>\n",
       "      <td>158261</td>\n",
       "      <td>(2017)</td>\n",
       "    </tr>\n",
       "    <tr>\n",
       "      <th>35</th>\n",
       "      <td>\\n    An undercover MI6 agent is sent to Berli...</td>\n",
       "      <td>6.7</td>\n",
       "      <td>63</td>\n",
       "      <td>Atomic Blonde</td>\n",
       "      <td>154977</td>\n",
       "      <td>(2017)</td>\n",
       "    </tr>\n",
       "    <tr>\n",
       "      <th>36</th>\n",
       "      <td>\\n    A detective must work with an Orc to fin...</td>\n",
       "      <td>6.4</td>\n",
       "      <td>29</td>\n",
       "      <td>Bright</td>\n",
       "      <td>151237</td>\n",
       "      <td>(I) (2017)</td>\n",
       "    </tr>\n",
       "    <tr>\n",
       "      <th>37</th>\n",
       "      <td>\\n    Competitive ice skater Tonya Harding ris...</td>\n",
       "      <td>7.5</td>\n",
       "      <td>77</td>\n",
       "      <td>I, Tonya</td>\n",
       "      <td>147766</td>\n",
       "      <td>(2017)</td>\n",
       "    </tr>\n",
       "    <tr>\n",
       "      <th>38</th>\n",
       "      <td>\\n    A dark force threatens Alpha, a vast met...</td>\n",
       "      <td>6.5</td>\n",
       "      <td>51</td>\n",
       "      <td>Valerian and the City of a Thousand Planets</td>\n",
       "      <td>143949</td>\n",
       "      <td>(2017)</td>\n",
       "    </tr>\n",
       "    <tr>\n",
       "      <th>39</th>\n",
       "      <td>\\n    Devoted lifeguard Mitch Buchannon butts ...</td>\n",
       "      <td>5.5</td>\n",
       "      <td>37</td>\n",
       "      <td>Baywatch</td>\n",
       "      <td>142543</td>\n",
       "      <td>(2017)</td>\n",
       "    </tr>\n",
       "    <tr>\n",
       "      <th>40</th>\n",
       "      <td>\\n    In May 1940, the fate of Western Europe ...</td>\n",
       "      <td>7.4</td>\n",
       "      <td>75</td>\n",
       "      <td>Darkest Hour</td>\n",
       "      <td>140824</td>\n",
       "      <td>(2017)</td>\n",
       "    </tr>\n",
       "    <tr>\n",
       "      <th>41</th>\n",
       "      <td>\\n    The story of Barry Seal, an American pil...</td>\n",
       "      <td>7.1</td>\n",
       "      <td>65</td>\n",
       "      <td>American Made</td>\n",
       "      <td>136699</td>\n",
       "      <td>(2017)</td>\n",
       "    </tr>\n",
       "    <tr>\n",
       "      <th>42</th>\n",
       "      <td>\\n    A deadly threat from Earth's history rea...</td>\n",
       "      <td>5.2</td>\n",
       "      <td>27</td>\n",
       "      <td>Transformers: The Last Knight</td>\n",
       "      <td>122180</td>\n",
       "      <td>(2017)</td>\n",
       "    </tr>\n",
       "  </tbody>\n",
       "</table>\n",
       "</div>"
      ],
      "text/plain": [
       "                                         descriptions  imdb  metascore  \\\n",
       "0   \\n    In a future where mutants are nearly ext...   8.1         77   \n",
       "1   \\n    Thor (Chris Hemsworth) is imprisoned on ...   7.9         74   \n",
       "2   \\n    The Guardians struggle to keep together ...   7.6         67   \n",
       "3   \\n    When a pilot crashes and tells of confli...   7.4         76   \n",
       "4   \\n    Allied soldiers from Belgium, the Britis...   7.9         94   \n",
       "5   \\n    Rey develops her newly discovered abilit...   7.1         85   \n",
       "6   \\n    Peter Parker balances his life as an ord...   7.5         73   \n",
       "7   \\n    A young African-American visits his whit...   7.7         84   \n",
       "8   \\n    A young blade runner's discovery of a lo...   8.0         81   \n",
       "9   \\n    In the summer of 1989, a group of bullie...   7.4         69   \n",
       "10  \\n    After being coerced into working for a c...   7.6         86   \n",
       "11  \\n    A mother personally challenges the local...   8.2         88   \n",
       "12  \\n    Fueled by his restored faith in humanity...   6.4         45   \n",
       "13  \\n    At a top secret research facility in the...   7.3         87   \n",
       "14  \\n    After returning to the criminal underwor...   7.5         75   \n",
       "15  \\n    Aspiring musician Miguel, confronted wit...   8.4         81   \n",
       "16  \\n    Four teenagers are sucked into a magical...   6.9         58   \n",
       "17  \\n    A selfish prince is cursed to become a m...   7.2         65   \n",
       "18  \\n    After the Vietnam war, a team of scienti...   6.6         62   \n",
       "19  \\n    When their headquarters are destroyed an...   6.8         44   \n",
       "20  \\n    Captain Jack Sparrow (Johnny Depp) searc...   6.6         39   \n",
       "21  \\n    The crew of a colony ship, bound for a r...   6.4         65   \n",
       "22  \\n    After the apes suffer unimaginable losse...   7.4         82   \n",
       "23  \\n    Celebrates the birth of show business an...   7.6         48   \n",
       "24  \\n    A team of scientists aboard the Internat...   6.6         54   \n",
       "25  \\n    When a mysterious woman seduces Dom into...   6.7         56   \n",
       "26  \\n    In 2002, an artistically inclined sevent...   7.4         94   \n",
       "27  \\n    When a murder occurs on the train on whi...   6.5         52   \n",
       "28  \\n    In the near future, Major Mira Killian i...   6.4         52   \n",
       "29  \\n    A veteran hunter helps an FBI agent inve...   7.7         73   \n",
       "30  \\n    Robbed of his birthright, Arthur comes u...   6.8         41   \n",
       "31  \\n    The world's top bodyguard gets a new cli...   6.9         47   \n",
       "32  \\n    A couple's relationship is tested when u...   6.6         75   \n",
       "33  \\n    In 1980s Italy, a romance blossoms betwe...   7.9         93   \n",
       "34  \\n    An ancient Egyptian princess is awakened...   5.5         34   \n",
       "35  \\n    An undercover MI6 agent is sent to Berli...   6.7         63   \n",
       "36  \\n    A detective must work with an Orc to fin...   6.4         29   \n",
       "37  \\n    Competitive ice skater Tonya Harding ris...   7.5         77   \n",
       "38  \\n    A dark force threatens Alpha, a vast met...   6.5         51   \n",
       "39  \\n    Devoted lifeguard Mitch Buchannon butts ...   5.5         37   \n",
       "40  \\n    In May 1940, the fate of Western Europe ...   7.4         75   \n",
       "41  \\n    The story of Barry Seal, an American pil...   7.1         65   \n",
       "42  \\n    A deadly threat from Earth's history rea...   5.2         27   \n",
       "\n",
       "                                               movie   votes        year  \n",
       "0                                              Logan  575221      (2017)  \n",
       "1                                     Thor: Ragnarok  506363      (2017)  \n",
       "2                     Guardians of the Galaxy Vol. 2  501462      (2017)  \n",
       "3                                       Wonder Woman  499346      (2017)  \n",
       "4                                            Dunkirk  479113      (2017)  \n",
       "5            Star Wars: Episode VIII - The Last Jedi  473952      (2017)  \n",
       "6                             Spider-Man: Homecoming  450013      (2017)  \n",
       "7                                            Get Out  418144  (I) (2017)  \n",
       "8                                  Blade Runner 2049  389619      (2017)  \n",
       "9                                                 It  382605  (I) (2017)  \n",
       "10                                       Baby Driver  378946      (2017)  \n",
       "11         Three Billboards Outside Ebbing, Missouri  357605      (2017)  \n",
       "12                                    Justice League  338265      (2017)  \n",
       "13                                The Shape of Water  318782      (2017)  \n",
       "14                              John Wick: Chapter 2  310169      (2017)  \n",
       "15                                              Coco  293107  (I) (2017)  \n",
       "16                    Jumanji: Welcome to the Jungle  251703      (2017)  \n",
       "17                              Beauty and the Beast  244475      (2017)  \n",
       "18                                Kong: Skull Island  244312      (2017)  \n",
       "19                       Kingsman: The Golden Circle  237848      (2017)  \n",
       "20  Pirates of the Caribbean: Dead Men Tell No Tales  234123      (2017)  \n",
       "21                                   Alien: Covenant  231643      (2017)  \n",
       "22                    War for the Planet of the Apes  206426      (2017)  \n",
       "23                              The Greatest Showman  205212      (2017)  \n",
       "24                                              Life  186495  (I) (2017)  \n",
       "25                           The Fate of the Furious  185444      (2017)  \n",
       "26                                         Lady Bird  184558      (2017)  \n",
       "27                      Murder on the Orient Express  182771      (2017)  \n",
       "28                                Ghost in the Shell  180404      (2017)  \n",
       "29                                        Wind River  174607      (2017)  \n",
       "30                  King Arthur: Legend of the Sword  172534      (2017)  \n",
       "31                            The Hitman's Bodyguard  165744      (2017)  \n",
       "32                                           Mother!  162969      (2017)  \n",
       "33                              Call Me by Your Name  160716      (2017)  \n",
       "34                                         The Mummy  158261      (2017)  \n",
       "35                                     Atomic Blonde  154977      (2017)  \n",
       "36                                            Bright  151237  (I) (2017)  \n",
       "37                                          I, Tonya  147766      (2017)  \n",
       "38       Valerian and the City of a Thousand Planets  143949      (2017)  \n",
       "39                                          Baywatch  142543      (2017)  \n",
       "40                                      Darkest Hour  140824      (2017)  \n",
       "41                                     American Made  136699      (2017)  \n",
       "42                     Transformers: The Last Knight  122180      (2017)  "
      ]
     },
     "execution_count": 18,
     "metadata": {},
     "output_type": "execute_result"
    }
   ],
   "source": [
    "import pandas as pd\n",
    "test_df = pd.DataFrame({'movie': names,\n",
    "'year': years,\n",
    "'imdb': imdb_ratings,\n",
    "'metascore': metascores,\n",
    "'votes': votes,\n",
    "'descriptions': descriptions\n",
    "})\n",
    "print(test_df.info())\n",
    "test_df"
   ]
  },
  {
   "cell_type": "code",
   "execution_count": 19,
   "metadata": {
    "collapsed": true
   },
   "outputs": [],
   "source": [
    "pages = [str(i) for i in range(1,5)]\n",
    "years_url = [str(i) for i in range(2000,2018)]"
   ]
  },
  {
   "cell_type": "markdown",
   "metadata": {},
   "source": [
    "Now let's try scraping data from multiple pages"
   ]
  },
  {
   "cell_type": "code",
   "execution_count": 20,
   "metadata": {},
   "outputs": [
    {
     "name": "stderr",
     "output_type": "stream",
     "text": [
      "/Users/samfeng/anaconda/lib/python3.6/site-packages/ipykernel_launcher.py:5: UserWarning: Warning Simulation\n",
      "  \"\"\"\n"
     ]
    }
   ],
   "source": [
    "from time import sleep\n",
    "from random import randint\n",
    "from time import time; start_time = time()\n",
    "from IPython.core.display import clear_output\n",
    "from warnings import warn; warn(\"Warning Simulation\")\n"
   ]
  },
  {
   "cell_type": "code",
   "execution_count": 21,
   "metadata": {},
   "outputs": [
    {
     "name": "stdout",
     "output_type": "stream",
     "text": [
      "Request:72; Frequency: 0.0730318444296901 requests/s\n"
     ]
    }
   ],
   "source": [
    "# Redeclaring the lists to store data in\n",
    "names = []\n",
    "years = []\n",
    "imdb_ratings = []\n",
    "metascores = []\n",
    "votes = []\n",
    "descriptions = []\n",
    "headers = {\"Accept-Language\": \"en-US, en;q=0.5\"}\n",
    "\n",
    "# Preparing the monitoring of the loop\n",
    "start_time = time()\n",
    "requests = 0\n",
    "\n",
    "# For every year in the interval 2000-2017\n",
    "for year_url in years_url:\n",
    "\n",
    "    # For every page in the interval 1-4\n",
    "    for page in pages:\n",
    "\n",
    "        # Make a get request\n",
    "        response = get('http://www.imdb.com/search/title?release_date=' + year_url +\n",
    "        '&sort=num_votes,desc&page=' + page, headers = headers)\n",
    "\n",
    "        # Pause the loop\n",
    "        sleep(randint(8,15))\n",
    "\n",
    "        # Monitor the requests\n",
    "        requests += 1\n",
    "        elapsed_time = time() - start_time\n",
    "        print('Request:{}; Frequency: {} requests/s'.format(requests, requests/elapsed_time))\n",
    "        clear_output(wait = True)\n",
    "\n",
    "        # Throw a warning for non-200 status codes\n",
    "        if response.status_code != 200:\n",
    "            warn('Request: {}; Status code: {}'.format(requests, response.status_code))\n",
    "\n",
    "        # Break the loop if the number of requests is greater than expected\n",
    "        if requests > 72:\n",
    "            warn('Number of requests was greater than expected.')\n",
    "            break\n",
    "\n",
    "        # Parse the content of the request with BeautifulSoup\n",
    "        page_html = BeautifulSoup(response.text, 'html.parser')\n",
    "\n",
    "        # Select all the 50 movie containers from a single page\n",
    "        mv_containers = page_html.find_all('div', class_ = 'lister-item mode-advanced')\n",
    "\n",
    "        # For every movie of these 50\n",
    "        for container in mv_containers:\n",
    "            # If the movie has a Metascore, then:\n",
    "            if container.find('div', class_ = 'ratings-metascore') is not None:\n",
    "\n",
    "                # Scrape the name\n",
    "                name = container.h3.a.text\n",
    "                names.append(name)\n",
    "\n",
    "                # Scrape the year\n",
    "                year = container.h3.find('span', class_ = 'lister-item-year').text\n",
    "                years.append(year)\n",
    "\n",
    "                # Scrape the IMDB rating\n",
    "                imdb = float(container.strong.text)\n",
    "                imdb_ratings.append(imdb)\n",
    "\n",
    "                # Scrape the Metascore\n",
    "                m_score = container.find('span', class_ = 'metascore').text\n",
    "                metascores.append(int(m_score))\n",
    "\n",
    "                # Scrape the number of votes\n",
    "                vote = container.find('span', attrs = {'name':'nv'})['data-value']\n",
    "                votes.append(int(vote))\n",
    "                # The description\n",
    "                description = container.find_all('p')[1].text\n",
    "                descriptions.append(description)"
   ]
  },
  {
   "cell_type": "code",
   "execution_count": 22,
   "metadata": {},
   "outputs": [
    {
     "name": "stdout",
     "output_type": "stream",
     "text": [
      "<class 'pandas.core.frame.DataFrame'>\n",
      "RangeIndex: 3276 entries, 0 to 3275\n",
      "Data columns (total 6 columns):\n",
      "descriptions    3276 non-null object\n",
      "imdb            3276 non-null float64\n",
      "metascore       3276 non-null int64\n",
      "movie           3276 non-null object\n",
      "votes           3276 non-null int64\n",
      "year            3276 non-null object\n",
      "dtypes: float64(1), int64(2), object(3)\n",
      "memory usage: 153.6+ KB\n",
      "None\n"
     ]
    },
    {
     "data": {
      "text/html": [
       "<div>\n",
       "<style>\n",
       "    .dataframe thead tr:only-child th {\n",
       "        text-align: right;\n",
       "    }\n",
       "\n",
       "    .dataframe thead th {\n",
       "        text-align: left;\n",
       "    }\n",
       "\n",
       "    .dataframe tbody tr th {\n",
       "        vertical-align: top;\n",
       "    }\n",
       "</style>\n",
       "<table border=\"1\" class=\"dataframe\">\n",
       "  <thead>\n",
       "    <tr style=\"text-align: right;\">\n",
       "      <th></th>\n",
       "      <th>descriptions</th>\n",
       "      <th>imdb</th>\n",
       "      <th>metascore</th>\n",
       "      <th>movie</th>\n",
       "      <th>votes</th>\n",
       "      <th>year</th>\n",
       "    </tr>\n",
       "  </thead>\n",
       "  <tbody>\n",
       "    <tr>\n",
       "      <th>0</th>\n",
       "      <td>\\n    A former Roman General sets out to exact...</td>\n",
       "      <td>8.5</td>\n",
       "      <td>67</td>\n",
       "      <td>Gladiator</td>\n",
       "      <td>1230751</td>\n",
       "      <td>(2000)</td>\n",
       "    </tr>\n",
       "    <tr>\n",
       "      <th>1</th>\n",
       "      <td>\\n    A man with short-term memory loss attemp...</td>\n",
       "      <td>8.4</td>\n",
       "      <td>80</td>\n",
       "      <td>Memento</td>\n",
       "      <td>1043099</td>\n",
       "      <td>(2000)</td>\n",
       "    </tr>\n",
       "    <tr>\n",
       "      <th>2</th>\n",
       "      <td>\\n    Unscrupulous boxing promoters, violent b...</td>\n",
       "      <td>8.3</td>\n",
       "      <td>55</td>\n",
       "      <td>Snatch</td>\n",
       "      <td>727791</td>\n",
       "      <td>(2000)</td>\n",
       "    </tr>\n",
       "    <tr>\n",
       "      <th>3</th>\n",
       "      <td>\\n    The drug-induced utopias of four Coney I...</td>\n",
       "      <td>8.3</td>\n",
       "      <td>68</td>\n",
       "      <td>Requiem for a Dream</td>\n",
       "      <td>709442</td>\n",
       "      <td>(2000)</td>\n",
       "    </tr>\n",
       "    <tr>\n",
       "      <th>4</th>\n",
       "      <td>\\n    In a world where mutants (evolved super-...</td>\n",
       "      <td>7.4</td>\n",
       "      <td>64</td>\n",
       "      <td>X-Men</td>\n",
       "      <td>542614</td>\n",
       "      <td>(2000)</td>\n",
       "    </tr>\n",
       "    <tr>\n",
       "      <th>5</th>\n",
       "      <td>\\n    A FedEx executive undergoes a physical a...</td>\n",
       "      <td>7.8</td>\n",
       "      <td>73</td>\n",
       "      <td>Cast Away</td>\n",
       "      <td>479238</td>\n",
       "      <td>(2000)</td>\n",
       "    </tr>\n",
       "    <tr>\n",
       "      <th>6</th>\n",
       "      <td>\\n    A wealthy New York City investment banki...</td>\n",
       "      <td>7.6</td>\n",
       "      <td>64</td>\n",
       "      <td>American Psycho</td>\n",
       "      <td>438262</td>\n",
       "      <td>(2000)</td>\n",
       "    </tr>\n",
       "    <tr>\n",
       "      <th>7</th>\n",
       "      <td>\\n    A man learns something extraordinary abo...</td>\n",
       "      <td>7.3</td>\n",
       "      <td>62</td>\n",
       "      <td>Unbreakable</td>\n",
       "      <td>359087</td>\n",
       "      <td>(2000)</td>\n",
       "    </tr>\n",
       "    <tr>\n",
       "      <th>8</th>\n",
       "      <td>\\n    Male nurse Greg Focker meets his girlfri...</td>\n",
       "      <td>7.0</td>\n",
       "      <td>73</td>\n",
       "      <td>Meet the Parents</td>\n",
       "      <td>295287</td>\n",
       "      <td>(2000)</td>\n",
       "    </tr>\n",
       "    <tr>\n",
       "      <th>9</th>\n",
       "      <td>\\n    I.M.F. Agent Ethan Hunt (Tom Cruise) is ...</td>\n",
       "      <td>6.1</td>\n",
       "      <td>59</td>\n",
       "      <td>Mission: Impossible II</td>\n",
       "      <td>294418</td>\n",
       "      <td>(2000)</td>\n",
       "    </tr>\n",
       "  </tbody>\n",
       "</table>\n",
       "</div>"
      ],
      "text/plain": [
       "                                        descriptions  imdb  metascore  \\\n",
       "0  \\n    A former Roman General sets out to exact...   8.5         67   \n",
       "1  \\n    A man with short-term memory loss attemp...   8.4         80   \n",
       "2  \\n    Unscrupulous boxing promoters, violent b...   8.3         55   \n",
       "3  \\n    The drug-induced utopias of four Coney I...   8.3         68   \n",
       "4  \\n    In a world where mutants (evolved super-...   7.4         64   \n",
       "5  \\n    A FedEx executive undergoes a physical a...   7.8         73   \n",
       "6  \\n    A wealthy New York City investment banki...   7.6         64   \n",
       "7  \\n    A man learns something extraordinary abo...   7.3         62   \n",
       "8  \\n    Male nurse Greg Focker meets his girlfri...   7.0         73   \n",
       "9  \\n    I.M.F. Agent Ethan Hunt (Tom Cruise) is ...   6.1         59   \n",
       "\n",
       "                    movie    votes    year  \n",
       "0               Gladiator  1230751  (2000)  \n",
       "1                 Memento  1043099  (2000)  \n",
       "2                  Snatch   727791  (2000)  \n",
       "3     Requiem for a Dream   709442  (2000)  \n",
       "4                   X-Men   542614  (2000)  \n",
       "5               Cast Away   479238  (2000)  \n",
       "6         American Psycho   438262  (2000)  \n",
       "7             Unbreakable   359087  (2000)  \n",
       "8        Meet the Parents   295287  (2000)  \n",
       "9  Mission: Impossible II   294418  (2000)  "
      ]
     },
     "execution_count": 22,
     "metadata": {},
     "output_type": "execute_result"
    }
   ],
   "source": [
    "movie_ratings = pd.DataFrame({'movie': names,\n",
    "'year': years,\n",
    "'imdb': imdb_ratings,\n",
    "'metascore': metascores,\n",
    "'votes': votes,\n",
    "'descriptions': descriptions\n",
    "})\n",
    "print(movie_ratings.info())\n",
    "movie_ratings.head(10)"
   ]
  },
  {
   "cell_type": "code",
   "execution_count": 23,
   "metadata": {},
   "outputs": [
    {
     "data": {
      "text/html": [
       "<div>\n",
       "<style>\n",
       "    .dataframe thead tr:only-child th {\n",
       "        text-align: right;\n",
       "    }\n",
       "\n",
       "    .dataframe thead th {\n",
       "        text-align: left;\n",
       "    }\n",
       "\n",
       "    .dataframe tbody tr th {\n",
       "        vertical-align: top;\n",
       "    }\n",
       "</style>\n",
       "<table border=\"1\" class=\"dataframe\">\n",
       "  <thead>\n",
       "    <tr style=\"text-align: right;\">\n",
       "      <th></th>\n",
       "      <th>movie</th>\n",
       "      <th>year</th>\n",
       "      <th>imdb</th>\n",
       "      <th>metascore</th>\n",
       "      <th>votes</th>\n",
       "      <th>descriptions</th>\n",
       "    </tr>\n",
       "  </thead>\n",
       "  <tbody>\n",
       "    <tr>\n",
       "      <th>0</th>\n",
       "      <td>Gladiator</td>\n",
       "      <td>(2000)</td>\n",
       "      <td>8.5</td>\n",
       "      <td>67</td>\n",
       "      <td>1230751</td>\n",
       "      <td>\\n    A former Roman General sets out to exact...</td>\n",
       "    </tr>\n",
       "    <tr>\n",
       "      <th>1</th>\n",
       "      <td>Memento</td>\n",
       "      <td>(2000)</td>\n",
       "      <td>8.4</td>\n",
       "      <td>80</td>\n",
       "      <td>1043099</td>\n",
       "      <td>\\n    A man with short-term memory loss attemp...</td>\n",
       "    </tr>\n",
       "    <tr>\n",
       "      <th>2</th>\n",
       "      <td>Snatch</td>\n",
       "      <td>(2000)</td>\n",
       "      <td>8.3</td>\n",
       "      <td>55</td>\n",
       "      <td>727791</td>\n",
       "      <td>\\n    Unscrupulous boxing promoters, violent b...</td>\n",
       "    </tr>\n",
       "    <tr>\n",
       "      <th>3</th>\n",
       "      <td>Requiem for a Dream</td>\n",
       "      <td>(2000)</td>\n",
       "      <td>8.3</td>\n",
       "      <td>68</td>\n",
       "      <td>709442</td>\n",
       "      <td>\\n    The drug-induced utopias of four Coney I...</td>\n",
       "    </tr>\n",
       "    <tr>\n",
       "      <th>4</th>\n",
       "      <td>X-Men</td>\n",
       "      <td>(2000)</td>\n",
       "      <td>7.4</td>\n",
       "      <td>64</td>\n",
       "      <td>542614</td>\n",
       "      <td>\\n    In a world where mutants (evolved super-...</td>\n",
       "    </tr>\n",
       "  </tbody>\n",
       "</table>\n",
       "</div>"
      ],
      "text/plain": [
       "                 movie    year  imdb  metascore    votes  \\\n",
       "0            Gladiator  (2000)   8.5         67  1230751   \n",
       "1              Memento  (2000)   8.4         80  1043099   \n",
       "2               Snatch  (2000)   8.3         55   727791   \n",
       "3  Requiem for a Dream  (2000)   8.3         68   709442   \n",
       "4                X-Men  (2000)   7.4         64   542614   \n",
       "\n",
       "                                        descriptions  \n",
       "0  \\n    A former Roman General sets out to exact...  \n",
       "1  \\n    A man with short-term memory loss attemp...  \n",
       "2  \\n    Unscrupulous boxing promoters, violent b...  \n",
       "3  \\n    The drug-induced utopias of four Coney I...  \n",
       "4  \\n    In a world where mutants (evolved super-...  "
      ]
     },
     "execution_count": 23,
     "metadata": {},
     "output_type": "execute_result"
    }
   ],
   "source": [
    "movie_ratings = movie_ratings[['movie', 'year', 'imdb', 'metascore', 'votes', 'descriptions']]\n",
    "movie_ratings.head()"
   ]
  },
  {
   "cell_type": "code",
   "execution_count": 24,
   "metadata": {},
   "outputs": [
    {
     "data": {
      "text/plain": [
       "array(['(2000)', '(I) (2000)', '(2001)', '(2002)', '(2003)', '(2004)',\n",
       "       '(I) (2004)', '(2005)', '(I) (2005)', '(2006)', '(I) (2006)',\n",
       "       '(2007)', '(I) (2007)', '(2008)', '(I) (2008)', '(2009)',\n",
       "       '(I) (2009)', '(2010)', '(I) (2010)', '(2011)', '(I) (2011)',\n",
       "       '(2012)', '(I) (2012)', '(2013)', '(I) (2013)', '(2014)',\n",
       "       '(I) (2014)', '(II) (2014)', '(2015)', '(I) (2015)', '(II) (2015)',\n",
       "       '(2016)', '(II) (2016)', '(I) (2016)', '(IX) (2016)', '(2017)',\n",
       "       '(I) (2017)'], dtype=object)"
      ]
     },
     "execution_count": 24,
     "metadata": {},
     "output_type": "execute_result"
    }
   ],
   "source": [
    "movie_ratings['year'].unique()\n"
   ]
  },
  {
   "cell_type": "markdown",
   "metadata": {},
   "source": [
    "**Data Cleaning**"
   ]
  },
  {
   "cell_type": "code",
   "execution_count": 25,
   "metadata": {},
   "outputs": [
    {
     "data": {
      "text/html": [
       "<div>\n",
       "<style>\n",
       "    .dataframe thead tr:only-child th {\n",
       "        text-align: right;\n",
       "    }\n",
       "\n",
       "    .dataframe thead th {\n",
       "        text-align: left;\n",
       "    }\n",
       "\n",
       "    .dataframe tbody tr th {\n",
       "        vertical-align: top;\n",
       "    }\n",
       "</style>\n",
       "<table border=\"1\" class=\"dataframe\">\n",
       "  <thead>\n",
       "    <tr style=\"text-align: right;\">\n",
       "      <th></th>\n",
       "      <th>imdb</th>\n",
       "      <th>metascore</th>\n",
       "    </tr>\n",
       "  </thead>\n",
       "  <tbody>\n",
       "    <tr>\n",
       "      <th>min</th>\n",
       "      <td>4.1</td>\n",
       "      <td>24.0</td>\n",
       "    </tr>\n",
       "    <tr>\n",
       "      <th>max</th>\n",
       "      <td>9.0</td>\n",
       "      <td>100.0</td>\n",
       "    </tr>\n",
       "  </tbody>\n",
       "</table>\n",
       "</div>"
      ],
      "text/plain": [
       "     imdb  metascore\n",
       "min   4.1       24.0\n",
       "max   9.0      100.0"
      ]
     },
     "execution_count": 25,
     "metadata": {},
     "output_type": "execute_result"
    }
   ],
   "source": [
    "movie_ratings.describe().loc[['min', 'max'], ['imdb', 'metascore']]\n"
   ]
  },
  {
   "cell_type": "markdown",
   "metadata": {},
   "source": [
    "normalize the imdb column to a 100-points scale"
   ]
  },
  {
   "cell_type": "code",
   "execution_count": 26,
   "metadata": {},
   "outputs": [
    {
     "data": {
      "text/html": [
       "<div>\n",
       "<style>\n",
       "    .dataframe thead tr:only-child th {\n",
       "        text-align: right;\n",
       "    }\n",
       "\n",
       "    .dataframe thead th {\n",
       "        text-align: left;\n",
       "    }\n",
       "\n",
       "    .dataframe tbody tr th {\n",
       "        vertical-align: top;\n",
       "    }\n",
       "</style>\n",
       "<table border=\"1\" class=\"dataframe\">\n",
       "  <thead>\n",
       "    <tr style=\"text-align: right;\">\n",
       "      <th></th>\n",
       "      <th>movie</th>\n",
       "      <th>year</th>\n",
       "      <th>imdb</th>\n",
       "      <th>metascore</th>\n",
       "      <th>votes</th>\n",
       "      <th>descriptions</th>\n",
       "      <th>n_imdb</th>\n",
       "    </tr>\n",
       "  </thead>\n",
       "  <tbody>\n",
       "    <tr>\n",
       "      <th>0</th>\n",
       "      <td>Gladiator</td>\n",
       "      <td>(2000)</td>\n",
       "      <td>8.5</td>\n",
       "      <td>67</td>\n",
       "      <td>1230751</td>\n",
       "      <td>\\n    A former Roman General sets out to exact...</td>\n",
       "      <td>85.0</td>\n",
       "    </tr>\n",
       "    <tr>\n",
       "      <th>1</th>\n",
       "      <td>Memento</td>\n",
       "      <td>(2000)</td>\n",
       "      <td>8.4</td>\n",
       "      <td>80</td>\n",
       "      <td>1043099</td>\n",
       "      <td>\\n    A man with short-term memory loss attemp...</td>\n",
       "      <td>84.0</td>\n",
       "    </tr>\n",
       "    <tr>\n",
       "      <th>2</th>\n",
       "      <td>Snatch</td>\n",
       "      <td>(2000)</td>\n",
       "      <td>8.3</td>\n",
       "      <td>55</td>\n",
       "      <td>727791</td>\n",
       "      <td>\\n    Unscrupulous boxing promoters, violent b...</td>\n",
       "      <td>83.0</td>\n",
       "    </tr>\n",
       "  </tbody>\n",
       "</table>\n",
       "</div>"
      ],
      "text/plain": [
       "       movie    year  imdb  metascore    votes  \\\n",
       "0  Gladiator  (2000)   8.5         67  1230751   \n",
       "1    Memento  (2000)   8.4         80  1043099   \n",
       "2     Snatch  (2000)   8.3         55   727791   \n",
       "\n",
       "                                        descriptions  n_imdb  \n",
       "0  \\n    A former Roman General sets out to exact...    85.0  \n",
       "1  \\n    A man with short-term memory loss attemp...    84.0  \n",
       "2  \\n    Unscrupulous boxing promoters, violent b...    83.0  "
      ]
     },
     "execution_count": 26,
     "metadata": {},
     "output_type": "execute_result"
    }
   ],
   "source": [
    "movie_ratings['n_imdb'] = movie_ratings['imdb'] * 10\n",
    "movie_ratings.head(3)"
   ]
  },
  {
   "cell_type": "markdown",
   "metadata": {},
   "source": [
    "# Data Exploration"
   ]
  },
  {
   "cell_type": "code",
   "execution_count": 35,
   "metadata": {},
   "outputs": [
    {
     "data": {
      "text/html": [
       "<div>\n",
       "<style>\n",
       "    .dataframe thead tr:only-child th {\n",
       "        text-align: right;\n",
       "    }\n",
       "\n",
       "    .dataframe thead th {\n",
       "        text-align: left;\n",
       "    }\n",
       "\n",
       "    .dataframe tbody tr th {\n",
       "        vertical-align: top;\n",
       "    }\n",
       "</style>\n",
       "<table border=\"1\" class=\"dataframe\">\n",
       "  <thead>\n",
       "    <tr style=\"text-align: right;\">\n",
       "      <th></th>\n",
       "      <th>Unnamed: 0</th>\n",
       "      <th>movie</th>\n",
       "      <th>year</th>\n",
       "      <th>imdb</th>\n",
       "      <th>metascore</th>\n",
       "      <th>votes</th>\n",
       "      <th>descriptions</th>\n",
       "      <th>n_imdb</th>\n",
       "    </tr>\n",
       "  </thead>\n",
       "  <tbody>\n",
       "    <tr>\n",
       "      <th>0</th>\n",
       "      <td>0</td>\n",
       "      <td>Gladiator</td>\n",
       "      <td>(2000)</td>\n",
       "      <td>8.5</td>\n",
       "      <td>67</td>\n",
       "      <td>1230705</td>\n",
       "      <td>\\n    A former Roman General sets out to exact...</td>\n",
       "      <td>85.0</td>\n",
       "    </tr>\n",
       "    <tr>\n",
       "      <th>1</th>\n",
       "      <td>1</td>\n",
       "      <td>Memento</td>\n",
       "      <td>(2000)</td>\n",
       "      <td>8.4</td>\n",
       "      <td>80</td>\n",
       "      <td>1043073</td>\n",
       "      <td>\\n    A man with short-term memory loss attemp...</td>\n",
       "      <td>84.0</td>\n",
       "    </tr>\n",
       "    <tr>\n",
       "      <th>2</th>\n",
       "      <td>2</td>\n",
       "      <td>Snatch</td>\n",
       "      <td>(2000)</td>\n",
       "      <td>8.3</td>\n",
       "      <td>55</td>\n",
       "      <td>727766</td>\n",
       "      <td>\\n    Unscrupulous boxing promoters, violent b...</td>\n",
       "      <td>83.0</td>\n",
       "    </tr>\n",
       "    <tr>\n",
       "      <th>3</th>\n",
       "      <td>3</td>\n",
       "      <td>Requiem for a Dream</td>\n",
       "      <td>(2000)</td>\n",
       "      <td>8.3</td>\n",
       "      <td>68</td>\n",
       "      <td>709414</td>\n",
       "      <td>\\n    The drug-induced utopias of four Coney I...</td>\n",
       "      <td>83.0</td>\n",
       "    </tr>\n",
       "    <tr>\n",
       "      <th>4</th>\n",
       "      <td>4</td>\n",
       "      <td>X-Men</td>\n",
       "      <td>(2000)</td>\n",
       "      <td>7.4</td>\n",
       "      <td>64</td>\n",
       "      <td>542597</td>\n",
       "      <td>\\n    In a world where mutants (evolved super-...</td>\n",
       "      <td>74.0</td>\n",
       "    </tr>\n",
       "  </tbody>\n",
       "</table>\n",
       "</div>"
      ],
      "text/plain": [
       "   Unnamed: 0                movie    year  imdb  metascore    votes  \\\n",
       "0           0            Gladiator  (2000)   8.5         67  1230705   \n",
       "1           1              Memento  (2000)   8.4         80  1043073   \n",
       "2           2               Snatch  (2000)   8.3         55   727766   \n",
       "3           3  Requiem for a Dream  (2000)   8.3         68   709414   \n",
       "4           4                X-Men  (2000)   7.4         64   542597   \n",
       "\n",
       "                                        descriptions  n_imdb  \n",
       "0  \\n    A former Roman General sets out to exact...    85.0  \n",
       "1  \\n    A man with short-term memory loss attemp...    84.0  \n",
       "2  \\n    Unscrupulous boxing promoters, violent b...    83.0  \n",
       "3  \\n    The drug-induced utopias of four Coney I...    83.0  \n",
       "4  \\n    In a world where mutants (evolved super-...    74.0  "
      ]
     },
     "execution_count": 35,
     "metadata": {},
     "output_type": "execute_result"
    }
   ],
   "source": [
    "# movie_ratings.to_csv('movie_ratings.csv')\n",
    "import pandas as pd\n",
    "movie_data = pd.read_csv('movie_ratings.csv')\n",
    "movie_data.head()"
   ]
  },
  {
   "cell_type": "code",
   "execution_count": 36,
   "metadata": {},
   "outputs": [
    {
     "data": {
      "text/plain": [
       "(3276, 8)"
      ]
     },
     "execution_count": 36,
     "metadata": {},
     "output_type": "execute_result"
    }
   ],
   "source": [
    "movie_data.shape"
   ]
  },
  {
   "cell_type": "markdown",
   "metadata": {},
   "source": [
    "It containes 3276 rows and 8 columns; hence it should be a big enough sample size to do analysis"
   ]
  },
  {
   "cell_type": "code",
   "execution_count": 29,
   "metadata": {},
   "outputs": [
    {
     "data": {
      "image/png": "[encoded data removed]",
      "text/plain": [
       "<matplotlib.figure.Figure at 0x116ea3470>"
      ]
     },
     "metadata": {},
     "output_type": "display_data"
    }
   ],
   "source": [
    "import matplotlib.pyplot as plt\n",
    "\n",
    "fig, axes = plt.subplots(nrows = 1, ncols = 3, figsize = (16,4))\n",
    "ax1, ax2, ax3 = fig.axes\n",
    "ax1.hist(movie_ratings['imdb'], bins = 10, range = (0,10)) # bin range = 1\n",
    "ax1.set_title('IMDB rating')\n",
    "ax2.hist(movie_ratings['metascore'], bins = 10, range = (0,100)) # bin range = 10\n",
    "ax2.set_title('Metascore')\n",
    "ax3.hist(movie_ratings['n_imdb'], bins = 10, range = (0,100), histtype = 'step')\n",
    "ax3.hist(movie_ratings['metascore'], bins = 10, range = (0,100), histtype = 'step')\n",
    "ax3.legend(loc = 'upper left')\n",
    "ax3.set_title('The Two Normalized Distributions')\n",
    "for ax in fig.axes:\n",
    "    ax.spines['top'].set_visible(False)\n",
    "    ax.spines['right'].set_visible(False)\n",
    "plt.show()"
   ]
  },
  {
   "cell_type": "markdown",
   "metadata": {},
   "source": [
    "Let's divide movies into two groups. If its score is greater than 8, then we would say it is a good movie. Here, I use 1 as \"good movie\" and 0 as \"Not good enough\"."
   ]
  },
  {
   "cell_type": "code",
   "execution_count": 39,
   "metadata": {},
   "outputs": [],
   "source": [
    "index = -1\n",
    "for i in movie_data['imdb']:\n",
    "    index += 1\n",
    "    if i > 8:\n",
    "        movie_data.at[index, 'good_bad_score'] = 1\n",
    "    else:\n",
    "        movie_data.at[index, 'good_bad_score'] = 0"
   ]
  },
  {
   "cell_type": "code",
   "execution_count": 40,
   "metadata": {},
   "outputs": [
    {
     "data": {
      "text/html": [
       "<div>\n",
       "<style>\n",
       "    .dataframe thead tr:only-child th {\n",
       "        text-align: right;\n",
       "    }\n",
       "\n",
       "    .dataframe thead th {\n",
       "        text-align: left;\n",
       "    }\n",
       "\n",
       "    .dataframe tbody tr th {\n",
       "        vertical-align: top;\n",
       "    }\n",
       "</style>\n",
       "<table border=\"1\" class=\"dataframe\">\n",
       "  <thead>\n",
       "    <tr style=\"text-align: right;\">\n",
       "      <th></th>\n",
       "      <th>Unnamed: 0</th>\n",
       "      <th>movie</th>\n",
       "      <th>year</th>\n",
       "      <th>imdb</th>\n",
       "      <th>metascore</th>\n",
       "      <th>votes</th>\n",
       "      <th>descriptions</th>\n",
       "      <th>n_imdb</th>\n",
       "      <th>good_bad_score</th>\n",
       "    </tr>\n",
       "  </thead>\n",
       "  <tbody>\n",
       "    <tr>\n",
       "      <th>0</th>\n",
       "      <td>0</td>\n",
       "      <td>Gladiator</td>\n",
       "      <td>(2000)</td>\n",
       "      <td>8.5</td>\n",
       "      <td>67</td>\n",
       "      <td>1230705</td>\n",
       "      <td>\\n    A former Roman General sets out to exact...</td>\n",
       "      <td>85.0</td>\n",
       "      <td>1.0</td>\n",
       "    </tr>\n",
       "    <tr>\n",
       "      <th>1</th>\n",
       "      <td>1</td>\n",
       "      <td>Memento</td>\n",
       "      <td>(2000)</td>\n",
       "      <td>8.4</td>\n",
       "      <td>80</td>\n",
       "      <td>1043073</td>\n",
       "      <td>\\n    A man with short-term memory loss attemp...</td>\n",
       "      <td>84.0</td>\n",
       "      <td>1.0</td>\n",
       "    </tr>\n",
       "    <tr>\n",
       "      <th>2</th>\n",
       "      <td>2</td>\n",
       "      <td>Snatch</td>\n",
       "      <td>(2000)</td>\n",
       "      <td>8.3</td>\n",
       "      <td>55</td>\n",
       "      <td>727766</td>\n",
       "      <td>\\n    Unscrupulous boxing promoters, violent b...</td>\n",
       "      <td>83.0</td>\n",
       "      <td>1.0</td>\n",
       "    </tr>\n",
       "    <tr>\n",
       "      <th>3</th>\n",
       "      <td>3</td>\n",
       "      <td>Requiem for a Dream</td>\n",
       "      <td>(2000)</td>\n",
       "      <td>8.3</td>\n",
       "      <td>68</td>\n",
       "      <td>709414</td>\n",
       "      <td>\\n    The drug-induced utopias of four Coney I...</td>\n",
       "      <td>83.0</td>\n",
       "      <td>1.0</td>\n",
       "    </tr>\n",
       "    <tr>\n",
       "      <th>4</th>\n",
       "      <td>4</td>\n",
       "      <td>X-Men</td>\n",
       "      <td>(2000)</td>\n",
       "      <td>7.4</td>\n",
       "      <td>64</td>\n",
       "      <td>542597</td>\n",
       "      <td>\\n    In a world where mutants (evolved super-...</td>\n",
       "      <td>74.0</td>\n",
       "      <td>0.0</td>\n",
       "    </tr>\n",
       "  </tbody>\n",
       "</table>\n",
       "</div>"
      ],
      "text/plain": [
       "   Unnamed: 0                movie    year  imdb  metascore    votes  \\\n",
       "0           0            Gladiator  (2000)   8.5         67  1230705   \n",
       "1           1              Memento  (2000)   8.4         80  1043073   \n",
       "2           2               Snatch  (2000)   8.3         55   727766   \n",
       "3           3  Requiem for a Dream  (2000)   8.3         68   709414   \n",
       "4           4                X-Men  (2000)   7.4         64   542597   \n",
       "\n",
       "                                        descriptions  n_imdb  good_bad_score  \n",
       "0  \\n    A former Roman General sets out to exact...    85.0             1.0  \n",
       "1  \\n    A man with short-term memory loss attemp...    84.0             1.0  \n",
       "2  \\n    Unscrupulous boxing promoters, violent b...    83.0             1.0  \n",
       "3  \\n    The drug-induced utopias of four Coney I...    83.0             1.0  \n",
       "4  \\n    In a world where mutants (evolved super-...    74.0             0.0  "
      ]
     },
     "execution_count": 40,
     "metadata": {},
     "output_type": "execute_result"
    }
   ],
   "source": [
    "movie_data['good_bad_score'][:20]\n",
    "movie_data.head()"
   ]
  },
  {
   "cell_type": "code",
   "execution_count": 41,
   "metadata": {},
   "outputs": [
    {
     "data": {
      "text/plain": [
       "Unnamed: 0        0\n",
       "movie             0\n",
       "year              0\n",
       "imdb              0\n",
       "metascore         0\n",
       "votes             0\n",
       "descriptions      0\n",
       "n_imdb            0\n",
       "good_bad_score    0\n",
       "dtype: int64"
      ]
     },
     "execution_count": 41,
     "metadata": {},
     "output_type": "execute_result"
    }
   ],
   "source": [
    "movie_data.isnull().sum()"
   ]
  },
  {
   "cell_type": "code",
   "execution_count": 53,
   "metadata": {},
   "outputs": [
    {
     "data": {
      "text/plain": [
       "0                                              Gladiator\n",
       "1                                                Memento\n",
       "2                                                 Snatch\n",
       "3                                    Requiem for a Dream\n",
       "4                                                  X-Men\n",
       "5                                              Cast Away\n",
       "6                                        American Psycho\n",
       "7                                            Unbreakable\n",
       "8                                       Meet the Parents\n",
       "9                                 Mission: Impossible II\n",
       "10                            O Brother, Where Art Thou?\n",
       "11                                    Gone in 60 Seconds\n",
       "12                        Crouching Tiger, Hidden Dragon\n",
       "13                                           The Patriot\n",
       "14                                         Almost Famous\n",
       "15                                           Scary Movie\n",
       "16                                           Pitch Black\n",
       "17                                     Final Destination\n",
       "18                                    Me, Myself & Irene\n",
       "19                                             The Beach\n",
       "20                                         Amores Perros\n",
       "21                                               Traffic\n",
       "22                                   Remember the Titans\n",
       "23                        How the Grinch Stole Christmas\n",
       "24                                       What Women Want\n",
       "25                                     Miss Congeniality\n",
       "26                                              Chocolat\n",
       "27                                           Chicken Run\n",
       "28                                      Charlie's Angels\n",
       "29                              The Emperor's New Groove\n",
       "                              ...                       \n",
       "3246                                  The Shape of Water\n",
       "3247                                John Wick: Chapter 2\n",
       "3248                                                Coco\n",
       "3249                      Jumanji: Welcome to the Jungle\n",
       "3250                                Beauty and the Beast\n",
       "3251                                  Kong: Skull Island\n",
       "3252                         Kingsman: The Golden Circle\n",
       "3253    Pirates of the Caribbean: Dead Men Tell No Tales\n",
       "3254                                     Alien: Covenant\n",
       "3255                      War for the Planet of the Apes\n",
       "3256                                The Greatest Showman\n",
       "3257                                                Life\n",
       "3258                             The Fate of the Furious\n",
       "3259                                           Lady Bird\n",
       "3260                        Murder on the Orient Express\n",
       "3261                                  Ghost in the Shell\n",
       "3262                                          Wind River\n",
       "3263                    King Arthur: Legend of the Sword\n",
       "3264                              The Hitman's Bodyguard\n",
       "3265                                             Mother!\n",
       "3266                                Call Me by Your Name\n",
       "3267                                           The Mummy\n",
       "3268                                       Atomic Blonde\n",
       "3269                                              Bright\n",
       "3270                                            I, Tonya\n",
       "3271         Valerian and the City of a Thousand Planets\n",
       "3272                                            Baywatch\n",
       "3273                                        Darkest Hour\n",
       "3274                                       American Made\n",
       "3275                       Transformers: The Last Knight\n",
       "Name: movie, Length: 3276, dtype: object"
      ]
     },
     "execution_count": 53,
     "metadata": {},
     "output_type": "execute_result"
    }
   ],
   "source": [
    "movie_data['movie']"
   ]
  },
  {
   "cell_type": "markdown",
   "metadata": {},
   "source": [
    "# Data Analysis using Regression"
   ]
  },
  {
   "cell_type": "code",
   "execution_count": 42,
   "metadata": {
    "collapsed": true
   },
   "outputs": [],
   "source": [
    "from sklearn.model_selection import train_test_split\n",
    "from sklearn.linear_model import LinearRegression\n",
    "from sklearn import preprocessing\n",
    "from sklearn.pipeline import make_pipeline\n",
    "from sklearn.model_selection import GridSearchCV\n",
    "from sklearn.metrics import mean_squared_error, r2_score\n",
    "from sklearn.externals import joblib\n",
    "import numpy as np"
   ]
  },
  {
   "cell_type": "markdown",
   "metadata": {},
   "source": [
    "**Is the IMDB rating related to meta score and number of votes?**"
   ]
  },
  {
   "cell_type": "code",
   "execution_count": 43,
   "metadata": {},
   "outputs": [],
   "source": [
    "Y = movie_data['n_imdb']\n",
    "X = movie_data[['metascore', 'votes']]"
   ]
  },
  {
   "cell_type": "code",
   "execution_count": 44,
   "metadata": {},
   "outputs": [
    {
     "data": {
      "text/plain": [
       "LinearRegression(copy_X=True, fit_intercept=True, n_jobs=1, normalize=False)"
      ]
     },
     "execution_count": 44,
     "metadata": {},
     "output_type": "execute_result"
    }
   ],
   "source": [
    "X_train, X_test, Y_train, Y_test = train_test_split(X, Y, \n",
    "                                                    test_size=0.2)\n",
    "regressor = LinearRegression()\n",
    "regressor.fit(X_train, Y_train)"
   ]
  },
  {
   "cell_type": "code",
   "execution_count": 45,
   "metadata": {},
   "outputs": [
    {
     "name": "stdout",
     "output_type": "stream",
     "text": [
      "[63.3452609  74.26607233 68.16352129 67.32874274 72.514891   79.01802228\n",
      " 66.96404418 67.32874274 76.38623128 63.66570619 69.70132767 78.17283375\n",
      " 69.6688712  73.13860079 73.34545152 66.60311217 71.77684452 73.98975536\n",
      " 75.67125246 71.38111761 68.24989856 65.36991787 65.42084177 73.97240822\n",
      " 67.23944807 60.0632365  67.08038242 67.84887773 73.69300302 69.90590272\n",
      " 95.74119382 63.80987292 65.953153   90.55953196 70.09622964 76.38933477\n",
      " 67.32874274 74.0248167  74.38175498 74.72058094 71.84202411 70.46282627\n",
      " 67.68154388 67.05892258 69.40886474 66.33957988 70.78436304 68.11110524\n",
      " 67.72350473 85.29504652 64.67402568 73.52287822 70.38892423 75.51751766\n",
      " 74.44771821 62.63057957 65.22853921 70.86998111 90.55953196 65.01023579\n",
      " 79.06750523 74.44771821 79.86576977 71.67374828 65.96900788 74.13394333\n",
      " 64.26868642 61.26139977 64.78442807 74.70429316 66.1523732  68.47218963\n",
      " 72.05156401 62.10572377 68.81162381 69.70132767 67.70892891 83.49619439\n",
      " 71.94779852 68.77285353 69.03655506 74.32620331 61.57491845 76.67926721\n",
      " 69.53028211 71.11203221 64.02065816 66.53958339 78.78698593 76.01299914\n",
      " 71.99077604 71.19195227 77.56946158 73.64084114 69.88390786 68.96693955\n",
      " 69.02420019 67.03062138 67.43682506 66.4168765  63.57426516 66.85821023\n",
      " 64.02094179 64.08984835 69.35897886 75.38463874 68.26810542 75.88982733\n",
      " 73.9161903  70.78436304 81.18196191 62.77627517 75.99315821 73.18625335\n",
      " 71.38111761 74.02920534 69.9940802  64.65164221 74.06922875 73.66162416\n",
      " 63.3452609  77.42986831 79.95205975 73.08297112 65.89322336 68.06771617\n",
      " 74.57993865 66.06796399 67.24888223 83.49619439 66.96476827 67.08038242\n",
      " 66.53958339 63.00851417 66.86624048 66.61116835 75.07641398 65.4715736\n",
      " 64.85391853 77.28438004 68.4853387  71.69453428 67.70892891 69.7858741\n",
      " 67.74696901 74.13394333 62.06162746 76.41367702 77.95294022 68.77285353\n",
      " 76.49910153 63.01110847 75.99448914 71.50443293 74.76178717 72.62753119\n",
      " 69.91325315 78.99089472 69.53028211 75.33717207 70.67756106 71.63202528\n",
      " 58.94480581 72.56556328 73.69300302 65.74633577 72.23711826 70.83433876\n",
      " 68.73863495 76.24326732 91.92370146 69.43326962 74.07442824 74.70429316\n",
      " 64.85391853 66.87693385 88.8317923  68.06771617 66.49458617 69.61274013\n",
      " 66.05949625 64.98848337 77.38058766 68.1712468  65.50681804 79.01802228\n",
      " 65.43867206 72.57213019 74.18157775 75.88982733 64.51328776 70.26980111\n",
      " 77.55023528 79.45779182 77.28115277 70.26746279 65.77195548 71.96558155\n",
      " 74.95042209 70.505325   77.55753696 79.52971673 82.96772601 81.24133668\n",
      " 71.51842784 69.19581576 69.28347498 69.29306311 77.28112833 63.45041951\n",
      " 74.060764   66.75249824 67.73965506 75.36536943 73.31017667 82.01339858\n",
      " 83.67183581 65.08384813 58.18455565 75.33342354 62.82257429 70.92255124\n",
      " 77.21959044 67.00609028 67.64884508 65.20913577 67.73965506 62.99414419\n",
      " 73.33838758 74.32620331 67.64884508 73.64084114 67.17677912 79.0448216\n",
      " 77.25426477 74.14855873 74.70269879 73.9275495  67.5349779  73.50061499\n",
      " 92.30850782 72.46957046 68.4853387  75.30871253 69.90590272 71.82638712\n",
      " 73.15060962 73.66162416 81.55944664 75.9133374  67.34284767 73.26997943\n",
      " 74.83999985 73.26810785 72.90065609 62.23930394 68.58239237 73.13860079\n",
      " 70.67756106 78.78698593 73.76307726 80.36072713 71.13051639 66.91606532\n",
      " 71.77996924 77.51303185 68.32013296 81.33376846 74.32620331 66.5555327\n",
      " 72.62507699 76.39927973 68.77285353 75.88982733 74.27391659 81.20087888\n",
      " 83.40938444 65.2396578  73.57483394 70.52531521 63.01110847 73.79766461\n",
      " 80.24615398 61.93405175 85.70415393 72.64486445 67.9470183  69.86263721\n",
      " 79.79720306 76.32242806 67.75091397 74.98460877 73.2932031  71.95565207\n",
      " 72.05156401 59.80674062 65.77195548 70.57449684 70.7292304  79.95205975\n",
      " 72.35405555 78.78769007 74.27391659 67.44906576 62.90385397 75.9133374\n",
      " 63.01110847 71.94985482 69.63045006 63.92354505 71.8679029  73.18625335\n",
      " 61.92150791 63.18535068 67.17677912 72.42502759 74.83999985 78.71881231\n",
      " 70.63494495 81.36917434 70.55124137 74.00512676 83.39620922 76.32150753\n",
      " 77.59020054 69.95184789 70.17692416 75.67125246 62.64788702 71.71206271\n",
      " 71.15883583 71.08113672 76.19977441 66.73887359 76.24326732 71.990029\n",
      " 72.12036238 68.08181181 83.40938444 75.66307891 66.61116835 63.33127804\n",
      " 64.30346435 68.54254278 72.52721065 74.51223005 65.10296496 75.07641398\n",
      " 76.11942007 68.30598695 66.27344143 73.75628307 68.7046557  77.25426477\n",
      " 64.51328776 68.08181181 60.83534151 66.91606532 73.79766461 67.0795592\n",
      " 76.11942007 66.68041327 67.13958807 63.95888863 71.13536696 81.24133668\n",
      " 65.75296969 62.99414419 68.19435895 77.55753696 77.92223701 67.2371311\n",
      " 70.73556405 75.69541192 67.6222103  71.46238512 71.08113672 75.36536943\n",
      " 63.21228286 77.568174   66.30084012 69.32520693 65.12837275 73.39300975\n",
      " 65.99839425 78.76338133 66.34299431 68.47218963 74.26607233 77.55993001\n",
      " 71.02454682 74.72058094 73.80576806 73.34545152 65.89322336 62.06162746\n",
      " 80.86824038 72.62507699 74.03944287 58.94480581 66.1523732  66.97557134\n",
      " 88.8317923  66.92886525 67.74696901 66.34299431 70.13508688 69.01658747\n",
      " 73.90728817 66.30084012 76.67926721 69.28347498 74.4297507  77.04587717\n",
      " 76.38623128 74.95042209 62.46518326 65.20913577 66.16412284 72.34785271\n",
      " 68.52080573 67.95706675 74.80163676 78.2483211  68.4979313  74.76178717\n",
      " 71.34728785 68.11110524 86.22968368 63.74877402 65.73747622 76.25417997\n",
      " 71.25875836 70.34419698 68.7046557  67.66982327 63.36891725 65.24059829\n",
      " 77.92223701 75.0204721  68.95353897 61.29709845 73.80576806 65.79842275\n",
      " 69.58538733 64.65164221 73.75628307 68.16352129 64.35711071 71.63202528\n",
      " 73.08297112 62.38006222 75.72978598 60.83534151 67.70376133 82.96772601\n",
      " 76.24326732 66.06796399 74.0449581  73.39300975 66.60311217 69.66528742\n",
      " 69.00935452 71.83117837 58.04988411 73.55263474 78.70280987 66.60311217\n",
      " 71.80621414 77.95294022 65.64544373 65.10296496 70.99580675 69.91325315\n",
      " 63.95888863 76.10853932 65.45142633 75.39819169 66.61380394 78.43397299\n",
      " 65.20913577 75.13585288 64.90140964 75.3261494  66.58976196 72.59014796\n",
      " 72.38896163 66.87921274 75.51751766 74.97036043 73.66162416 76.25417997\n",
      " 80.60736962 72.08299142 82.53973032 64.94027285 63.00851417 71.96558155\n",
      " 74.98460877 72.91914176 75.3261494  68.8809892  63.01714346 67.13958807\n",
      " 69.70952864 62.77627517 66.49458617 64.06643283 64.74642148 67.16791647\n",
      " 79.86576977 71.77684452 67.08038242 66.6167748  65.953153   64.74642148\n",
      " 76.51735106 68.73863495 81.49693902 68.54254278 65.99839425 63.77391804\n",
      " 72.37737493 77.04587717 60.74851769 68.56646728 74.25524803 72.08299142\n",
      " 75.66307891 65.48606244 66.19907769 73.6279026  69.13326568 65.05947686\n",
      " 76.32972824 66.73887359 70.1270338  66.05949625 68.73863495 80.00742\n",
      " 61.57491845 62.19257353 73.15060962 69.40886474 64.05935833 70.65875976\n",
      " 74.90483971 62.38006222 69.95904286 64.30346435 67.00609028 75.11627573\n",
      " 74.55316035 70.04973237 66.87693385 61.87487961 67.34284767 69.13326568\n",
      " 70.26980111 74.64271271 66.80431696 75.44796307 65.54830767 74.91432263\n",
      " 82.53973032 69.58538733 73.75297683 73.98975536 75.00886875 70.28779754\n",
      " 71.40156227 75.9133374  71.50443293 65.68993485 68.84373264 71.09062262\n",
      " 70.25906505 70.13508688 75.32384779 66.97557134 70.09016895 67.74696901\n",
      " 71.95636998 72.32074395 71.84202411 66.71502666 74.26845941 73.72381913\n",
      " 74.26607233 70.97152394 74.27441202 59.85022722 74.07442824 70.38892423\n",
      " 71.94985482 78.99089472 73.55263474 66.21730119 66.21730119 73.53112934\n",
      " 79.79720306 79.0448216  81.81107797 60.92407225 65.68993485 71.69453428\n",
      " 65.22853921 81.46028597 59.6878293  74.70269879 70.24633074 63.93311345\n",
      " 70.73556405 72.39057895 70.63494495 71.990029   75.44796307 67.24884104\n",
      " 69.23577814 74.87040771 66.75249824 58.72706494 77.71305853 66.97557134\n",
      " 67.62371782 76.32150753 73.97240822 71.95565207 69.24441201 72.13075687\n",
      " 71.63202528 76.67926721 68.1712468  60.83534151 68.29379065 83.02978824\n",
      " 62.06162746 72.12036238 92.30850782 62.38006222 68.7046557  73.23611169\n",
      " 75.92137383 77.30129086 71.16025649 68.01132751 68.43458542 77.30129086\n",
      " 79.79720306 61.29709845 73.90728817 69.6688712  75.99104707 66.18685396\n",
      " 69.9940802  81.18196191]\n"
     ]
    }
   ],
   "source": [
    "Y_pred = regressor.predict(X_test)\n",
    "print(Y_pred)"
   ]
  },
  {
   "cell_type": "code",
   "execution_count": 46,
   "metadata": {},
   "outputs": [
    {
     "data": {
      "text/html": [
       "<div>\n",
       "<style>\n",
       "    .dataframe thead tr:only-child th {\n",
       "        text-align: right;\n",
       "    }\n",
       "\n",
       "    .dataframe thead th {\n",
       "        text-align: left;\n",
       "    }\n",
       "\n",
       "    .dataframe tbody tr th {\n",
       "        vertical-align: top;\n",
       "    }\n",
       "</style>\n",
       "<table border=\"1\" class=\"dataframe\">\n",
       "  <thead>\n",
       "    <tr style=\"text-align: right;\">\n",
       "      <th></th>\n",
       "      <th>Actual</th>\n",
       "      <th>Predicted</th>\n",
       "    </tr>\n",
       "  </thead>\n",
       "  <tbody>\n",
       "    <tr>\n",
       "      <th>0</th>\n",
       "      <td>68.0</td>\n",
       "      <td>63.345261</td>\n",
       "    </tr>\n",
       "    <tr>\n",
       "      <th>1</th>\n",
       "      <td>74.0</td>\n",
       "      <td>74.266072</td>\n",
       "    </tr>\n",
       "    <tr>\n",
       "      <th>2</th>\n",
       "      <td>64.0</td>\n",
       "      <td>68.163521</td>\n",
       "    </tr>\n",
       "    <tr>\n",
       "      <th>3</th>\n",
       "      <td>64.0</td>\n",
       "      <td>67.328743</td>\n",
       "    </tr>\n",
       "    <tr>\n",
       "      <th>4</th>\n",
       "      <td>77.0</td>\n",
       "      <td>72.514891</td>\n",
       "    </tr>\n",
       "    <tr>\n",
       "      <th>5</th>\n",
       "      <td>78.0</td>\n",
       "      <td>79.018022</td>\n",
       "    </tr>\n",
       "    <tr>\n",
       "      <th>6</th>\n",
       "      <td>68.0</td>\n",
       "      <td>66.964044</td>\n",
       "    </tr>\n",
       "    <tr>\n",
       "      <th>7</th>\n",
       "      <td>64.0</td>\n",
       "      <td>67.328743</td>\n",
       "    </tr>\n",
       "    <tr>\n",
       "      <th>8</th>\n",
       "      <td>73.0</td>\n",
       "      <td>76.386231</td>\n",
       "    </tr>\n",
       "    <tr>\n",
       "      <th>9</th>\n",
       "      <td>55.0</td>\n",
       "      <td>63.665706</td>\n",
       "    </tr>\n",
       "  </tbody>\n",
       "</table>\n",
       "</div>"
      ],
      "text/plain": [
       "   Actual  Predicted\n",
       "0    68.0  63.345261\n",
       "1    74.0  74.266072\n",
       "2    64.0  68.163521\n",
       "3    64.0  67.328743\n",
       "4    77.0  72.514891\n",
       "5    78.0  79.018022\n",
       "6    68.0  66.964044\n",
       "7    64.0  67.328743\n",
       "8    73.0  76.386231\n",
       "9    55.0  63.665706"
      ]
     },
     "execution_count": 46,
     "metadata": {},
     "output_type": "execute_result"
    }
   ],
   "source": [
    "error_frame = pd.DataFrame({'Actual': np.array(Y_test).flatten(), 'Predicted': Y_pred.flatten()})\n",
    "error_frame.head(10)"
   ]
  },
  {
   "cell_type": "code",
   "execution_count": 47,
   "metadata": {},
   "outputs": [
    {
     "data": {
      "text/html": [
       "<table class=\"simpletable\">\n",
       "<caption>OLS Regression Results</caption>\n",
       "<tr>\n",
       "  <th>Dep. Variable:</th>         <td>n_imdb</td>      <th>  R-squared:         </th> <td>   0.584</td> \n",
       "</tr>\n",
       "<tr>\n",
       "  <th>Model:</th>                   <td>OLS</td>       <th>  Adj. R-squared:    </th> <td>   0.584</td> \n",
       "</tr>\n",
       "<tr>\n",
       "  <th>Method:</th>             <td>Least Squares</td>  <th>  F-statistic:       </th> <td>   2297.</td> \n",
       "</tr>\n",
       "<tr>\n",
       "  <th>Date:</th>             <td>Mon, 09 Sep 2019</td> <th>  Prob (F-statistic):</th>  <td>  0.00</td>  \n",
       "</tr>\n",
       "<tr>\n",
       "  <th>Time:</th>                 <td>12:58:18</td>     <th>  Log-Likelihood:    </th> <td> -9777.4</td> \n",
       "</tr>\n",
       "<tr>\n",
       "  <th>No. Observations:</th>      <td>  3276</td>      <th>  AIC:               </th> <td>1.956e+04</td>\n",
       "</tr>\n",
       "<tr>\n",
       "  <th>Df Residuals:</th>          <td>  3273</td>      <th>  BIC:               </th> <td>1.958e+04</td>\n",
       "</tr>\n",
       "<tr>\n",
       "  <th>Df Model:</th>              <td>     2</td>      <th>                     </th>     <td> </td>    \n",
       "</tr>\n",
       "<tr>\n",
       "  <th>Covariance Type:</th>      <td>nonrobust</td>    <th>                     </th>     <td> </td>    \n",
       "</tr>\n",
       "</table>\n",
       "<table class=\"simpletable\">\n",
       "<tr>\n",
       "    <td></td>       <th>coef</th>     <th>std err</th>      <th>t</th>      <th>P>|t|</th>  <th>[0.025</th>    <th>0.975]</th>  \n",
       "</tr>\n",
       "<tr>\n",
       "  <th>const</th> <td>   49.9721</td> <td>    0.348</td> <td>  143.642</td> <td> 0.000</td> <td>   49.290</td> <td>   50.654</td>\n",
       "</tr>\n",
       "<tr>\n",
       "  <th>x1</th>    <td>    0.2780</td> <td>    0.006</td> <td>   48.589</td> <td> 0.000</td> <td>    0.267</td> <td>    0.289</td>\n",
       "</tr>\n",
       "<tr>\n",
       "  <th>x2</th>    <td> 1.076e-05</td> <td>    4e-07</td> <td>   26.878</td> <td> 0.000</td> <td> 9.97e-06</td> <td> 1.15e-05</td>\n",
       "</tr>\n",
       "</table>\n",
       "<table class=\"simpletable\">\n",
       "<tr>\n",
       "  <th>Omnibus:</th>       <td>220.652</td> <th>  Durbin-Watson:     </th> <td>   1.988</td> \n",
       "</tr>\n",
       "<tr>\n",
       "  <th>Prob(Omnibus):</th> <td> 0.000</td>  <th>  Jarque-Bera (JB):  </th> <td> 536.775</td> \n",
       "</tr>\n",
       "<tr>\n",
       "  <th>Skew:</th>          <td>-0.402</td>  <th>  Prob(JB):          </th> <td>2.76e-117</td>\n",
       "</tr>\n",
       "<tr>\n",
       "  <th>Kurtosis:</th>      <td> 4.813</td>  <th>  Cond. No.          </th> <td>1.67e+06</td> \n",
       "</tr>\n",
       "</table>"
      ],
      "text/plain": [
       "<class 'statsmodels.iolib.summary.Summary'>\n",
       "\"\"\"\n",
       "                            OLS Regression Results                            \n",
       "==============================================================================\n",
       "Dep. Variable:                 n_imdb   R-squared:                       0.584\n",
       "Model:                            OLS   Adj. R-squared:                  0.584\n",
       "Method:                 Least Squares   F-statistic:                     2297.\n",
       "Date:                Mon, 09 Sep 2019   Prob (F-statistic):               0.00\n",
       "Time:                        12:58:18   Log-Likelihood:                -9777.4\n",
       "No. Observations:                3276   AIC:                         1.956e+04\n",
       "Df Residuals:                    3273   BIC:                         1.958e+04\n",
       "Df Model:                           2                                         \n",
       "Covariance Type:            nonrobust                                         \n",
       "==============================================================================\n",
       "                 coef    std err          t      P>|t|      [0.025      0.975]\n",
       "------------------------------------------------------------------------------\n",
       "const         49.9721      0.348    143.642      0.000      49.290      50.654\n",
       "x1             0.2780      0.006     48.589      0.000       0.267       0.289\n",
       "x2          1.076e-05      4e-07     26.878      0.000    9.97e-06    1.15e-05\n",
       "==============================================================================\n",
       "Omnibus:                      220.652   Durbin-Watson:                   1.988\n",
       "Prob(Omnibus):                  0.000   Jarque-Bera (JB):              536.775\n",
       "Skew:                          -0.402   Prob(JB):                    2.76e-117\n",
       "Kurtosis:                       4.813   Cond. No.                     1.67e+06\n",
       "==============================================================================\n",
       "\n",
       "Warnings:\n",
       "[1] Standard Errors assume that the covariance matrix of the errors is correctly specified.\n",
       "[2] The condition number is large, 1.67e+06. This might indicate that there are\n",
       "strong multicollinearity or other numerical problems.\n",
       "\"\"\""
      ]
     },
     "execution_count": 47,
     "metadata": {},
     "output_type": "execute_result"
    }
   ],
   "source": [
    "import statsmodels.formula.api as sm\n",
    "X = np.append(arr = np.ones((3276, 1)).astype(int), values = X, axis = 1)\n",
    "X_opt = X[:, [0,1,2]]\n",
    "regressor_ols = sm.OLS(endog = Y, exog = X_opt).fit()\n",
    "regressor_ols.summary()"
   ]
  },
  {
   "cell_type": "markdown",
   "metadata": {},
   "source": [
    "Almost 60% R-squared indicates the correlation between dependent and independent variables."
   ]
  },
  {
   "cell_type": "markdown",
   "metadata": {},
   "source": [
    "# Analysis on Movies Reviews using NLP"
   ]
  },
  {
   "cell_type": "markdown",
   "metadata": {},
   "source": [
    "**Can the description of the movie indicate whether a movie can be a good one? Maybe some word choices tend to attract more users and make them give higher ratings? Or some words choices can usually be seen in higher/lower rating movies?**"
   ]
  },
  {
   "cell_type": "code",
   "execution_count": 102,
   "metadata": {},
   "outputs": [
    {
     "name": "stdout",
     "output_type": "stream",
     "text": [
      "[nltk_data] Downloading package stopwords to\n",
      "[nltk_data]     /Users/samfeng/nltk_data...\n",
      "[nltk_data]   Package stopwords is already up-to-date!\n"
     ]
    }
   ],
   "source": [
    "import re\n",
    "import nltk\n",
    "nltk.download('stopwords')\n",
    "from nltk.corpus import stopwords\n",
    "from nltk.stem.porter import PorterStemmer"
   ]
  },
  {
   "cell_type": "markdown",
   "metadata": {},
   "source": [
    "Remove punctuation in the descriptions"
   ]
  },
  {
   "cell_type": "code",
   "execution_count": 103,
   "metadata": {
    "collapsed": true
   },
   "outputs": [],
   "source": [
    "def remove_punctuation(text):\n",
    "    '''a function for removing punctuation'''\n",
    "    import string\n",
    "    # replacing the punctuations with no space, \n",
    "    # which in effect deletes the punctuation marks \n",
    "    translator = str.maketrans('', '', string.punctuation)\n",
    "    # return the text stripped of punctuation marks\n",
    "    return text.translate(translator)"
   ]
  },
  {
   "cell_type": "code",
   "execution_count": 104,
   "metadata": {},
   "outputs": [
    {
     "data": {
      "text/html": [
       "<div>\n",
       "<style>\n",
       "    .dataframe thead tr:only-child th {\n",
       "        text-align: right;\n",
       "    }\n",
       "\n",
       "    .dataframe thead th {\n",
       "        text-align: left;\n",
       "    }\n",
       "\n",
       "    .dataframe tbody tr th {\n",
       "        vertical-align: top;\n",
       "    }\n",
       "</style>\n",
       "<table border=\"1\" class=\"dataframe\">\n",
       "  <thead>\n",
       "    <tr style=\"text-align: right;\">\n",
       "      <th></th>\n",
       "      <th>Unnamed: 0</th>\n",
       "      <th>movie</th>\n",
       "      <th>year</th>\n",
       "      <th>imdb</th>\n",
       "      <th>metascore</th>\n",
       "      <th>votes</th>\n",
       "      <th>descriptions</th>\n",
       "      <th>n_imdb</th>\n",
       "      <th>good_bad_score</th>\n",
       "    </tr>\n",
       "  </thead>\n",
       "  <tbody>\n",
       "    <tr>\n",
       "      <th>0</th>\n",
       "      <td>0</td>\n",
       "      <td>Gladiator</td>\n",
       "      <td>(2000)</td>\n",
       "      <td>8.5</td>\n",
       "      <td>67</td>\n",
       "      <td>1230705</td>\n",
       "      <td>\\n    A former Roman General sets out to exact...</td>\n",
       "      <td>85.0</td>\n",
       "      <td>1.0</td>\n",
       "    </tr>\n",
       "    <tr>\n",
       "      <th>1</th>\n",
       "      <td>1</td>\n",
       "      <td>Memento</td>\n",
       "      <td>(2000)</td>\n",
       "      <td>8.4</td>\n",
       "      <td>80</td>\n",
       "      <td>1043073</td>\n",
       "      <td>\\n    A man with shortterm memory loss attempt...</td>\n",
       "      <td>84.0</td>\n",
       "      <td>1.0</td>\n",
       "    </tr>\n",
       "    <tr>\n",
       "      <th>2</th>\n",
       "      <td>2</td>\n",
       "      <td>Snatch</td>\n",
       "      <td>(2000)</td>\n",
       "      <td>8.3</td>\n",
       "      <td>55</td>\n",
       "      <td>727766</td>\n",
       "      <td>\\n    Unscrupulous boxing promoters violent bo...</td>\n",
       "      <td>83.0</td>\n",
       "      <td>1.0</td>\n",
       "    </tr>\n",
       "    <tr>\n",
       "      <th>3</th>\n",
       "      <td>3</td>\n",
       "      <td>Requiem for a Dream</td>\n",
       "      <td>(2000)</td>\n",
       "      <td>8.3</td>\n",
       "      <td>68</td>\n",
       "      <td>709414</td>\n",
       "      <td>\\n    The druginduced utopias of four Coney Is...</td>\n",
       "      <td>83.0</td>\n",
       "      <td>1.0</td>\n",
       "    </tr>\n",
       "    <tr>\n",
       "      <th>4</th>\n",
       "      <td>4</td>\n",
       "      <td>X-Men</td>\n",
       "      <td>(2000)</td>\n",
       "      <td>7.4</td>\n",
       "      <td>64</td>\n",
       "      <td>542597</td>\n",
       "      <td>\\n    In a world where mutants evolved superpo...</td>\n",
       "      <td>74.0</td>\n",
       "      <td>0.0</td>\n",
       "    </tr>\n",
       "    <tr>\n",
       "      <th>5</th>\n",
       "      <td>5</td>\n",
       "      <td>Cast Away</td>\n",
       "      <td>(2000)</td>\n",
       "      <td>7.8</td>\n",
       "      <td>73</td>\n",
       "      <td>479211</td>\n",
       "      <td>\\n    A FedEx executive undergoes a physical a...</td>\n",
       "      <td>78.0</td>\n",
       "      <td>0.0</td>\n",
       "    </tr>\n",
       "    <tr>\n",
       "      <th>6</th>\n",
       "      <td>6</td>\n",
       "      <td>American Psycho</td>\n",
       "      <td>(2000)</td>\n",
       "      <td>7.6</td>\n",
       "      <td>64</td>\n",
       "      <td>438231</td>\n",
       "      <td>\\n    A wealthy New York City investment banki...</td>\n",
       "      <td>76.0</td>\n",
       "      <td>0.0</td>\n",
       "    </tr>\n",
       "    <tr>\n",
       "      <th>7</th>\n",
       "      <td>7</td>\n",
       "      <td>Unbreakable</td>\n",
       "      <td>(2000)</td>\n",
       "      <td>7.3</td>\n",
       "      <td>62</td>\n",
       "      <td>359058</td>\n",
       "      <td>\\n    A man learns something extraordinary abo...</td>\n",
       "      <td>73.0</td>\n",
       "      <td>0.0</td>\n",
       "    </tr>\n",
       "    <tr>\n",
       "      <th>8</th>\n",
       "      <td>8</td>\n",
       "      <td>Meet the Parents</td>\n",
       "      <td>(2000)</td>\n",
       "      <td>7.0</td>\n",
       "      <td>73</td>\n",
       "      <td>295281</td>\n",
       "      <td>\\n    Male nurse Greg Focker meets his girlfri...</td>\n",
       "      <td>70.0</td>\n",
       "      <td>0.0</td>\n",
       "    </tr>\n",
       "    <tr>\n",
       "      <th>9</th>\n",
       "      <td>9</td>\n",
       "      <td>Mission: Impossible II</td>\n",
       "      <td>(2000)</td>\n",
       "      <td>6.1</td>\n",
       "      <td>59</td>\n",
       "      <td>294398</td>\n",
       "      <td>\\n    IMF Agent Ethan Hunt Tom Cruise is sent ...</td>\n",
       "      <td>61.0</td>\n",
       "      <td>0.0</td>\n",
       "    </tr>\n",
       "  </tbody>\n",
       "</table>\n",
       "</div>"
      ],
      "text/plain": [
       "   Unnamed: 0                   movie    year  imdb  metascore    votes  \\\n",
       "0           0               Gladiator  (2000)   8.5         67  1230705   \n",
       "1           1                 Memento  (2000)   8.4         80  1043073   \n",
       "2           2                  Snatch  (2000)   8.3         55   727766   \n",
       "3           3     Requiem for a Dream  (2000)   8.3         68   709414   \n",
       "4           4                   X-Men  (2000)   7.4         64   542597   \n",
       "5           5               Cast Away  (2000)   7.8         73   479211   \n",
       "6           6         American Psycho  (2000)   7.6         64   438231   \n",
       "7           7             Unbreakable  (2000)   7.3         62   359058   \n",
       "8           8        Meet the Parents  (2000)   7.0         73   295281   \n",
       "9           9  Mission: Impossible II  (2000)   6.1         59   294398   \n",
       "\n",
       "                                        descriptions  n_imdb  good_bad_score  \n",
       "0  \\n    A former Roman General sets out to exact...    85.0             1.0  \n",
       "1  \\n    A man with shortterm memory loss attempt...    84.0             1.0  \n",
       "2  \\n    Unscrupulous boxing promoters violent bo...    83.0             1.0  \n",
       "3  \\n    The druginduced utopias of four Coney Is...    83.0             1.0  \n",
       "4  \\n    In a world where mutants evolved superpo...    74.0             0.0  \n",
       "5  \\n    A FedEx executive undergoes a physical a...    78.0             0.0  \n",
       "6  \\n    A wealthy New York City investment banki...    76.0             0.0  \n",
       "7  \\n    A man learns something extraordinary abo...    73.0             0.0  \n",
       "8  \\n    Male nurse Greg Focker meets his girlfri...    70.0             0.0  \n",
       "9  \\n    IMF Agent Ethan Hunt Tom Cruise is sent ...    61.0             0.0  "
      ]
     },
     "execution_count": 104,
     "metadata": {},
     "output_type": "execute_result"
    }
   ],
   "source": [
    "movie_data['descriptions'] = movie_data['descriptions'].apply(remove_punctuation)\n",
    "movie_data.head(10)"
   ]
  },
  {
   "cell_type": "markdown",
   "metadata": {},
   "source": [
    "**Text Cleaning**"
   ]
  },
  {
   "cell_type": "code",
   "execution_count": 105,
   "metadata": {},
   "outputs": [],
   "source": [
    "corpus = []\n",
    "for i in range(0, 3276):\n",
    "    descri = re.sub('[^a-zA-Z]', ' ', movie_data['descriptions'][i])\n",
    "    descri = descri.lower()\n",
    "    descri = descri.split()\n",
    "    ps = PorterStemmer()\n",
    "    descri = [ps.stem(word) for word in descri if not word in set(stopwords.words('english'))]\n",
    "    descri =' '.join(descri)\n",
    "    corpus.append(descri)\n",
    "    "
   ]
  },
  {
   "cell_type": "markdown",
   "metadata": {},
   "source": [
    "**Creating the Bag of Words Model**"
   ]
  },
  {
   "cell_type": "code",
   "execution_count": 106,
   "metadata": {},
   "outputs": [],
   "source": [
    "from sklearn.feature_extraction.text import CountVectorizer\n",
    "cv = CountVectorizer(max_features = 3000)\n",
    "X = cv.fit_transform(corpus).toarray()\n",
    "Y = movie_data['good_bad_score'].values"
   ]
  },
  {
   "cell_type": "code",
   "execution_count": 107,
   "metadata": {},
   "outputs": [
    {
     "data": {
      "text/plain": [
       "(3276, 3000)"
      ]
     },
     "execution_count": 107,
     "metadata": {},
     "output_type": "execute_result"
    }
   ],
   "source": [
    "X.shape"
   ]
  },
  {
   "cell_type": "markdown",
   "metadata": {},
   "source": [
    "Looks like there are 4067 words in total, but let's filter the most common 3000 words in this case"
   ]
  },
  {
   "cell_type": "markdown",
   "metadata": {},
   "source": [
    "**Split the Dataset into Training Set and Test Set**"
   ]
  },
  {
   "cell_type": "code",
   "execution_count": 108,
   "metadata": {},
   "outputs": [],
   "source": [
    "from sklearn.cross_validation import train_test_split"
   ]
  },
  {
   "cell_type": "code",
   "execution_count": 109,
   "metadata": {
    "collapsed": true
   },
   "outputs": [],
   "source": [
    "X_train, X_test, Y_train, Y_test = train_test_split(X, Y, test_size = 0.20, random_state = 0)"
   ]
  },
  {
   "cell_type": "code",
   "execution_count": 110,
   "metadata": {},
   "outputs": [
    {
     "data": {
      "text/plain": [
       "GaussianNB(priors=None)"
      ]
     },
     "execution_count": 110,
     "metadata": {},
     "output_type": "execute_result"
    }
   ],
   "source": [
    "from sklearn.naive_bayes import GaussianNB\n",
    "classifier = GaussianNB()\n",
    "classifier.fit(X_train, Y_train)"
   ]
  },
  {
   "cell_type": "code",
   "execution_count": 111,
   "metadata": {},
   "outputs": [],
   "source": [
    "Y_pred = classifier.predict(X_test)"
   ]
  },
  {
   "cell_type": "code",
   "execution_count": 112,
   "metadata": {},
   "outputs": [
    {
     "data": {
      "text/plain": [
       "array([[597,   0],\n",
       "       [  0,  59]])"
      ]
     },
     "execution_count": 112,
     "metadata": {},
     "output_type": "execute_result"
    }
   ],
   "source": [
    "from sklearn.metrics import confusion_matrix\n",
    "cm = confusion_matrix(Y_test, Y_pred)\n",
    "cm"
   ]
  },
  {
   "cell_type": "markdown",
   "metadata": {},
   "source": [
    "But the accuracy seems too good, we need to examine our process again."
   ]
  },
  {
   "cell_type": "code",
   "execution_count": null,
   "metadata": {
    "collapsed": true
   },
   "outputs": [],
   "source": []
  }
 ],
 "metadata": {
  "kernelspec": {
   "display_name": "Python 3",
   "language": "python",
   "name": "python3"
  },
  "language_info": {
   "codemirror_mode": {
    "name": "ipython",
    "version": 3
   },
   "file_extension": ".py",
   "mimetype": "text/x-python",
   "name": "python",
   "nbconvert_exporter": "python",
   "pygments_lexer": "ipython3",
   "version": "3.6.1"
  }
 },
 "nbformat": 4,
 "nbformat_minor": 2
}
